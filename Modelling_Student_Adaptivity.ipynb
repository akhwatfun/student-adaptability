{
  "nbformat": 4,
  "nbformat_minor": 0,
  "metadata": {
    "colab": {
      "provenance": [],
      "authorship_tag": "ABX9TyO+A8xD3/Xh2eE2D5PHbq+G",
      "include_colab_link": true
    },
    "kernelspec": {
      "name": "python3",
      "display_name": "Python 3"
    },
    "language_info": {
      "name": "python"
    }
  },
  "cells": [
    {
      "cell_type": "markdown",
      "metadata": {
        "id": "view-in-github",
        "colab_type": "text"
      },
      "source": [
        "<a href=\"https://colab.research.google.com/github/akhwatfun/student-adaptability/blob/main/Modelling_Student_Adaptivity.ipynb\" target=\"_parent\"><img src=\"https://colab.research.google.com/assets/colab-badge.svg\" alt=\"Open In Colab\"/></a>"
      ]
    },
    {
      "cell_type": "markdown",
      "source": [
        "# Membuat Pemodelan Student Adaptivity\n",
        "\n",
        "Pada bagian ini kita akan membuat modelling dengan data yang sudah kita olah sebelumnya dengan file EDA"
      ],
      "metadata": {
        "id": "m_h4yg5R3ozl"
      }
    },
    {
      "cell_type": "code",
      "execution_count": 1,
      "metadata": {
        "id": "UA6EeIqly-9U"
      },
      "outputs": [],
      "source": [
        "import numpy as np\n",
        "import pandas as pd\n",
        "import math\n",
        "import random\n",
        "import seaborn as sns\n",
        "from scipy.stats import pearsonr, jarque_bera\n",
        "import matplotlib.pyplot as plt\n",
        "from sklearn.preprocessing import StandardScaler\n",
        "from sklearn.model_selection import train_test_split\n",
        "from sklearn import tree\n",
        "from sklearn.ensemble import RandomForestClassifier\n",
        "from sklearn.tree import DecisionTreeClassifier\n",
        "from sklearn.decomposition import PCA\n",
        "from sklearn.metrics import accuracy_score, confusion_matrix, precision_score, recall_score, classification_report, confusion_matrix, f1_score\n",
        "from sklearn.model_selection import cross_val_score\n",
        "import warnings\n",
        "warnings.filterwarnings(\"ignore\")\n",
        "\n",
        "%matplotlib inline\n",
        "\n",
        "# Memuat dataset yang sudah rapi ditahapan sebelumnya\n",
        "data = \"data.csv\"\n",
        "df = pd.read_csv(data, index_col=0)\n",
        "\n",
        "df['Gender'] = df['Gender'].replace({'Boy': 1,\n",
        "                                   'Girl': 0})\n",
        "df['Age'] = df['Age'].replace({'1-5': 0,\n",
        "                                '6-10': 1,\n",
        "                                '11-15': 2,\n",
        "                                '16-20': 3,\n",
        "                                '21-25': 4,\n",
        "                                '26-30': 5})\n",
        "df['Education Level'] = df['Education Level'].replace({'School': 0,\n",
        "                                       'College': 1,\n",
        "                                       'University': 2})\n",
        "df['Institution Type'] = df['Institution Type'].replace({'Non Government': 0,\n",
        "                                       'Government': 1})\n",
        "df['IT Student'] = df['IT Student'].replace({'No': 0,\n",
        "                                       'Yes': 1})\n",
        "df['Location'] = df['Location'].replace({'Yes': 1,\n",
        "                                   'No': 0})\n",
        "df['Load-shedding'] = df['Load-shedding'].replace({'Low': 0,\n",
        "                                   'High': 1})\n",
        "df['Financial Condition'] = df['Financial Condition'].replace({'Poor': 1,\n",
        "                                     'Mid': 2,\n",
        "                                     'Rich': 3})\n",
        "df['Internet Type'] = df['Internet Type'].replace({'Mobile Data': 1,\n",
        "                                   'Wifi': 2})\n",
        "df['Network Type'] = df['Network Type'].replace({'2G': 1,\n",
        "                                     '3G': 2,\n",
        "                                     '4G': 3})\n",
        "df['Class Duration'] = df['Class Duration'].replace({'0': 0,\n",
        "                                  '1-3': 1,\n",
        "                                  '3-6': 2})\n",
        "df['Self LMS'] = df['Self LMS'].replace({'No': 0,\n",
        "                                       'Yes': 1})\n",
        "df['Device'] = df['Device'].replace({'Tab': 1,\n",
        "                                     'Mobile': 2,\n",
        "                                     'Computer': 3})\n",
        "df['Adaptivity Level'] = df['Adaptivity Level'].replace({'Low': 0,\n",
        "                                         'Moderate': 1,\n",
        "                                         'High': 2})\n",
        "\n",
        "# Memasukkan 7 variabel terpilih\n",
        "variabel = [\"Institution Type\",  \"Location\",\n",
        "                \"Load-shedding\", \"Financial Condition\", \"Internet Type\", \"Network Type\", \"Class Duration\"\n",
        "                ]\n",
        "analyze = df[variabel]"
      ]
    },
    {
      "cell_type": "code",
      "source": [
        "# Liat informasi dari dataset yang kita miliki\n",
        "print(df.head())\n",
        "print(df.columns)"
      ],
      "metadata": {
        "colab": {
          "base_uri": "https://localhost:8080/"
        },
        "id": "lPOCF3yHzugF",
        "outputId": "eb265a5f-6ce5-4502-e651-cbb0d27dff5f"
      },
      "execution_count": 3,
      "outputs": [
        {
          "output_type": "stream",
          "name": "stdout",
          "text": [
            "   Gender  Age  Education Level  Institution Type  IT Student  Location  \\\n",
            "0       1    4                2                 0           0         1   \n",
            "1       0    4                2                 0           0         1   \n",
            "2       0    3                1                 1           0         1   \n",
            "3       0    2                0                 0           0         1   \n",
            "4       0    3                0                 0           0         1   \n",
            "\n",
            "   Load-shedding  Financial Condition  Internet Type  Network Type  \\\n",
            "0              0                    2              2             3   \n",
            "1              1                    2              1             3   \n",
            "2              0                    2              2             3   \n",
            "3              0                    2              1             3   \n",
            "4              0                    1              1             2   \n",
            "\n",
            "   Class Duration  Self LMS  Device  Adaptivity Level  \n",
            "0               2         0       1                 1  \n",
            "1               1         1       2                 1  \n",
            "2               1         0       2                 1  \n",
            "3               1         0       2                 1  \n",
            "4               0         0       2                 0  \n",
            "Index(['Gender', 'Age', 'Education Level', 'Institution Type', 'IT Student',\n",
            "       'Location', 'Load-shedding', 'Financial Condition', 'Internet Type',\n",
            "       'Network Type', 'Class Duration', 'Self LMS', 'Device',\n",
            "       'Adaptivity Level'],\n",
            "      dtype='object')\n"
          ]
        }
      ]
    },
    {
      "cell_type": "markdown",
      "source": [
        "**Memisahkan variabel dependen dan independen**\n",
        "\n",
        "Variabel dependen yang digunakan adalah data pada kolom 'target', kolom feature merupakan variabel independen."
      ],
      "metadata": {
        "id": "Zl_Iu_sa0frc"
      }
    },
    {
      "cell_type": "code",
      "source": [
        "# Define X and y\n",
        "X = df.loc[:, ~df.columns.isin([\"Adaptivity Level\"])]\n",
        "y = df[\"Adaptivity Level\"]"
      ],
      "metadata": {
        "id": "qOWotulmz2yH"
      },
      "execution_count": 4,
      "outputs": []
    },
    {
      "cell_type": "code",
      "source": [
        "# Melihat kolom yang termasuk variable indepnden\n",
        "X.head()"
      ],
      "metadata": {
        "colab": {
          "base_uri": "https://localhost:8080/",
          "height": 206
        },
        "id": "LFSmbWjj0G5V",
        "outputId": "7b6838dc-6f71-4c07-97ea-0826ada2a3ee"
      },
      "execution_count": 5,
      "outputs": [
        {
          "output_type": "execute_result",
          "data": {
            "text/plain": [
              "   Gender  Age  Education Level  Institution Type  IT Student  Location  \\\n",
              "0       1    4                2                 0           0         1   \n",
              "1       0    4                2                 0           0         1   \n",
              "2       0    3                1                 1           0         1   \n",
              "3       0    2                0                 0           0         1   \n",
              "4       0    3                0                 0           0         1   \n",
              "\n",
              "   Load-shedding  Financial Condition  Internet Type  Network Type  \\\n",
              "0              0                    2              2             3   \n",
              "1              1                    2              1             3   \n",
              "2              0                    2              2             3   \n",
              "3              0                    2              1             3   \n",
              "4              0                    1              1             2   \n",
              "\n",
              "   Class Duration  Self LMS  Device  \n",
              "0               2         0       1  \n",
              "1               1         1       2  \n",
              "2               1         0       2  \n",
              "3               1         0       2  \n",
              "4               0         0       2  "
            ],
            "text/html": [
              "\n",
              "  <div id=\"df-97d14cad-95b5-4241-ac3f-4efc15315709\" class=\"colab-df-container\">\n",
              "    <div>\n",
              "<style scoped>\n",
              "    .dataframe tbody tr th:only-of-type {\n",
              "        vertical-align: middle;\n",
              "    }\n",
              "\n",
              "    .dataframe tbody tr th {\n",
              "        vertical-align: top;\n",
              "    }\n",
              "\n",
              "    .dataframe thead th {\n",
              "        text-align: right;\n",
              "    }\n",
              "</style>\n",
              "<table border=\"1\" class=\"dataframe\">\n",
              "  <thead>\n",
              "    <tr style=\"text-align: right;\">\n",
              "      <th></th>\n",
              "      <th>Gender</th>\n",
              "      <th>Age</th>\n",
              "      <th>Education Level</th>\n",
              "      <th>Institution Type</th>\n",
              "      <th>IT Student</th>\n",
              "      <th>Location</th>\n",
              "      <th>Load-shedding</th>\n",
              "      <th>Financial Condition</th>\n",
              "      <th>Internet Type</th>\n",
              "      <th>Network Type</th>\n",
              "      <th>Class Duration</th>\n",
              "      <th>Self LMS</th>\n",
              "      <th>Device</th>\n",
              "    </tr>\n",
              "  </thead>\n",
              "  <tbody>\n",
              "    <tr>\n",
              "      <th>0</th>\n",
              "      <td>1</td>\n",
              "      <td>4</td>\n",
              "      <td>2</td>\n",
              "      <td>0</td>\n",
              "      <td>0</td>\n",
              "      <td>1</td>\n",
              "      <td>0</td>\n",
              "      <td>2</td>\n",
              "      <td>2</td>\n",
              "      <td>3</td>\n",
              "      <td>2</td>\n",
              "      <td>0</td>\n",
              "      <td>1</td>\n",
              "    </tr>\n",
              "    <tr>\n",
              "      <th>1</th>\n",
              "      <td>0</td>\n",
              "      <td>4</td>\n",
              "      <td>2</td>\n",
              "      <td>0</td>\n",
              "      <td>0</td>\n",
              "      <td>1</td>\n",
              "      <td>1</td>\n",
              "      <td>2</td>\n",
              "      <td>1</td>\n",
              "      <td>3</td>\n",
              "      <td>1</td>\n",
              "      <td>1</td>\n",
              "      <td>2</td>\n",
              "    </tr>\n",
              "    <tr>\n",
              "      <th>2</th>\n",
              "      <td>0</td>\n",
              "      <td>3</td>\n",
              "      <td>1</td>\n",
              "      <td>1</td>\n",
              "      <td>0</td>\n",
              "      <td>1</td>\n",
              "      <td>0</td>\n",
              "      <td>2</td>\n",
              "      <td>2</td>\n",
              "      <td>3</td>\n",
              "      <td>1</td>\n",
              "      <td>0</td>\n",
              "      <td>2</td>\n",
              "    </tr>\n",
              "    <tr>\n",
              "      <th>3</th>\n",
              "      <td>0</td>\n",
              "      <td>2</td>\n",
              "      <td>0</td>\n",
              "      <td>0</td>\n",
              "      <td>0</td>\n",
              "      <td>1</td>\n",
              "      <td>0</td>\n",
              "      <td>2</td>\n",
              "      <td>1</td>\n",
              "      <td>3</td>\n",
              "      <td>1</td>\n",
              "      <td>0</td>\n",
              "      <td>2</td>\n",
              "    </tr>\n",
              "    <tr>\n",
              "      <th>4</th>\n",
              "      <td>0</td>\n",
              "      <td>3</td>\n",
              "      <td>0</td>\n",
              "      <td>0</td>\n",
              "      <td>0</td>\n",
              "      <td>1</td>\n",
              "      <td>0</td>\n",
              "      <td>1</td>\n",
              "      <td>1</td>\n",
              "      <td>2</td>\n",
              "      <td>0</td>\n",
              "      <td>0</td>\n",
              "      <td>2</td>\n",
              "    </tr>\n",
              "  </tbody>\n",
              "</table>\n",
              "</div>\n",
              "    <div class=\"colab-df-buttons\">\n",
              "\n",
              "  <div class=\"colab-df-container\">\n",
              "    <button class=\"colab-df-convert\" onclick=\"convertToInteractive('df-97d14cad-95b5-4241-ac3f-4efc15315709')\"\n",
              "            title=\"Convert this dataframe to an interactive table.\"\n",
              "            style=\"display:none;\">\n",
              "\n",
              "  <svg xmlns=\"http://www.w3.org/2000/svg\" height=\"24px\" viewBox=\"0 -960 960 960\">\n",
              "    <path d=\"M120-120v-720h720v720H120Zm60-500h600v-160H180v160Zm220 220h160v-160H400v160Zm0 220h160v-160H400v160ZM180-400h160v-160H180v160Zm440 0h160v-160H620v160ZM180-180h160v-160H180v160Zm440 0h160v-160H620v160Z\"/>\n",
              "  </svg>\n",
              "    </button>\n",
              "\n",
              "  <style>\n",
              "    .colab-df-container {\n",
              "      display:flex;\n",
              "      gap: 12px;\n",
              "    }\n",
              "\n",
              "    .colab-df-convert {\n",
              "      background-color: #E8F0FE;\n",
              "      border: none;\n",
              "      border-radius: 50%;\n",
              "      cursor: pointer;\n",
              "      display: none;\n",
              "      fill: #1967D2;\n",
              "      height: 32px;\n",
              "      padding: 0 0 0 0;\n",
              "      width: 32px;\n",
              "    }\n",
              "\n",
              "    .colab-df-convert:hover {\n",
              "      background-color: #E2EBFA;\n",
              "      box-shadow: 0px 1px 2px rgba(60, 64, 67, 0.3), 0px 1px 3px 1px rgba(60, 64, 67, 0.15);\n",
              "      fill: #174EA6;\n",
              "    }\n",
              "\n",
              "    .colab-df-buttons div {\n",
              "      margin-bottom: 4px;\n",
              "    }\n",
              "\n",
              "    [theme=dark] .colab-df-convert {\n",
              "      background-color: #3B4455;\n",
              "      fill: #D2E3FC;\n",
              "    }\n",
              "\n",
              "    [theme=dark] .colab-df-convert:hover {\n",
              "      background-color: #434B5C;\n",
              "      box-shadow: 0px 1px 3px 1px rgba(0, 0, 0, 0.15);\n",
              "      filter: drop-shadow(0px 1px 2px rgba(0, 0, 0, 0.3));\n",
              "      fill: #FFFFFF;\n",
              "    }\n",
              "  </style>\n",
              "\n",
              "    <script>\n",
              "      const buttonEl =\n",
              "        document.querySelector('#df-97d14cad-95b5-4241-ac3f-4efc15315709 button.colab-df-convert');\n",
              "      buttonEl.style.display =\n",
              "        google.colab.kernel.accessAllowed ? 'block' : 'none';\n",
              "\n",
              "      async function convertToInteractive(key) {\n",
              "        const element = document.querySelector('#df-97d14cad-95b5-4241-ac3f-4efc15315709');\n",
              "        const dataTable =\n",
              "          await google.colab.kernel.invokeFunction('convertToInteractive',\n",
              "                                                    [key], {});\n",
              "        if (!dataTable) return;\n",
              "\n",
              "        const docLinkHtml = 'Like what you see? Visit the ' +\n",
              "          '<a target=\"_blank\" href=https://colab.research.google.com/notebooks/data_table.ipynb>data table notebook</a>'\n",
              "          + ' to learn more about interactive tables.';\n",
              "        element.innerHTML = '';\n",
              "        dataTable['output_type'] = 'display_data';\n",
              "        await google.colab.output.renderOutput(dataTable, element);\n",
              "        const docLink = document.createElement('div');\n",
              "        docLink.innerHTML = docLinkHtml;\n",
              "        element.appendChild(docLink);\n",
              "      }\n",
              "    </script>\n",
              "  </div>\n",
              "\n",
              "\n",
              "<div id=\"df-2a0148d6-7581-4ae9-892f-465fd0c70406\">\n",
              "  <button class=\"colab-df-quickchart\" onclick=\"quickchart('df-2a0148d6-7581-4ae9-892f-465fd0c70406')\"\n",
              "            title=\"Suggest charts.\"\n",
              "            style=\"display:none;\">\n",
              "\n",
              "<svg xmlns=\"http://www.w3.org/2000/svg\" height=\"24px\"viewBox=\"0 0 24 24\"\n",
              "     width=\"24px\">\n",
              "    <g>\n",
              "        <path d=\"M19 3H5c-1.1 0-2 .9-2 2v14c0 1.1.9 2 2 2h14c1.1 0 2-.9 2-2V5c0-1.1-.9-2-2-2zM9 17H7v-7h2v7zm4 0h-2V7h2v10zm4 0h-2v-4h2v4z\"/>\n",
              "    </g>\n",
              "</svg>\n",
              "  </button>\n",
              "\n",
              "<style>\n",
              "  .colab-df-quickchart {\n",
              "    background-color: #E8F0FE;\n",
              "    border: none;\n",
              "    border-radius: 50%;\n",
              "    cursor: pointer;\n",
              "    display: none;\n",
              "    fill: #1967D2;\n",
              "    height: 32px;\n",
              "    padding: 0 0 0 0;\n",
              "    width: 32px;\n",
              "  }\n",
              "\n",
              "  .colab-df-quickchart:hover {\n",
              "    background-color: #E2EBFA;\n",
              "    box-shadow: 0px 1px 2px rgba(60, 64, 67, 0.3), 0px 1px 3px 1px rgba(60, 64, 67, 0.15);\n",
              "    fill: #174EA6;\n",
              "  }\n",
              "\n",
              "  [theme=dark] .colab-df-quickchart {\n",
              "    background-color: #3B4455;\n",
              "    fill: #D2E3FC;\n",
              "  }\n",
              "\n",
              "  [theme=dark] .colab-df-quickchart:hover {\n",
              "    background-color: #434B5C;\n",
              "    box-shadow: 0px 1px 3px 1px rgba(0, 0, 0, 0.15);\n",
              "    filter: drop-shadow(0px 1px 2px rgba(0, 0, 0, 0.3));\n",
              "    fill: #FFFFFF;\n",
              "  }\n",
              "</style>\n",
              "\n",
              "  <script>\n",
              "    async function quickchart(key) {\n",
              "      const charts = await google.colab.kernel.invokeFunction(\n",
              "          'suggestCharts', [key], {});\n",
              "    }\n",
              "    (() => {\n",
              "      let quickchartButtonEl =\n",
              "        document.querySelector('#df-2a0148d6-7581-4ae9-892f-465fd0c70406 button');\n",
              "      quickchartButtonEl.style.display =\n",
              "        google.colab.kernel.accessAllowed ? 'block' : 'none';\n",
              "    })();\n",
              "  </script>\n",
              "</div>\n",
              "    </div>\n",
              "  </div>\n"
            ]
          },
          "metadata": {},
          "execution_count": 5
        }
      ]
    },
    {
      "cell_type": "code",
      "source": [
        "# Melihat variabel dependen\n",
        "y.head()"
      ],
      "metadata": {
        "colab": {
          "base_uri": "https://localhost:8080/"
        },
        "id": "ixCQNWlg0KfV",
        "outputId": "30a3d8d6-c09f-41ed-b170-68e2319080ca"
      },
      "execution_count": 6,
      "outputs": [
        {
          "output_type": "execute_result",
          "data": {
            "text/plain": [
              "0    1\n",
              "1    1\n",
              "2    1\n",
              "3    1\n",
              "4    0\n",
              "Name: Adaptivity Level, dtype: int64"
            ]
          },
          "metadata": {},
          "execution_count": 6
        }
      ]
    },
    {
      "cell_type": "code",
      "source": [
        "# Mendefinisikan standard scaler\n",
        "scaler = StandardScaler()\n",
        "X_scaled = scaler.fit_transform(X)"
      ],
      "metadata": {
        "id": "quYRLC4N0OZd"
      },
      "execution_count": 7,
      "outputs": []
    },
    {
      "cell_type": "code",
      "source": [
        "X_scaled"
      ],
      "metadata": {
        "colab": {
          "base_uri": "https://localhost:8080/"
        },
        "id": "8ksro9J00RXN",
        "outputId": "74080233-f87d-4291-d425-6ffbd56770b7"
      },
      "execution_count": 8,
      "outputs": [
        {
          "output_type": "execute_result",
          "data": {
            "text/plain": [
              "array([[ 0.8542422 ,  0.74051171,  0.96614445, ...,  1.59188267,\n",
              "        -0.54122943, -2.77168489],\n",
              "       [-1.17062819,  0.74051171,  0.96614445, ..., -0.07147228,\n",
              "         1.84764529, -0.35000799],\n",
              "       [-1.17062819, -0.12510928, -0.17363886, ..., -0.07147228,\n",
              "        -0.54122943, -0.35000799],\n",
              "       ...,\n",
              "       [-1.17062819, -0.12510928, -0.17363886, ..., -0.07147228,\n",
              "         1.84764529, -0.35000799],\n",
              "       [ 0.8542422 ,  0.74051171,  0.96614445, ..., -0.07147228,\n",
              "         1.84764529, -0.35000799],\n",
              "       [ 0.8542422 ,  0.74051171,  0.96614445, ...,  1.59188267,\n",
              "        -0.54122943,  2.07166891]])"
            ]
          },
          "metadata": {},
          "execution_count": 8
        }
      ]
    },
    {
      "cell_type": "markdown",
      "source": [
        "**Spliting data**\n",
        "\n",
        "Memisahkan dataset menjadi training dan testing dataset dengan perbandingan 80:20 dan random state 42"
      ],
      "metadata": {
        "id": "xB5q4baP0YS9"
      }
    },
    {
      "cell_type": "code",
      "source": [
        "# Mendefinisikan pemisahan data\n",
        "X_train, X_test, y_train, y_test = train_test_split(X_scaled , y, test_size=0.2, random_state=100)\n",
        "\n",
        "# Menampilkan hasil pemisahan berdasarkan kolom dan baris\n",
        "print(X_train.shape)\n",
        "print(X_test.shape)\n",
        "print(y_train.shape)\n",
        "print(y_test.shape)"
      ],
      "metadata": {
        "colab": {
          "base_uri": "https://localhost:8080/"
        },
        "id": "SvB60rAq0Uyu",
        "outputId": "23f0dad9-39ab-46b9-c394-b24fcc329b9e"
      },
      "execution_count": 9,
      "outputs": [
        {
          "output_type": "stream",
          "name": "stdout",
          "text": [
            "(204, 13)\n",
            "(52, 13)\n",
            "(204,)\n",
            "(52,)\n"
          ]
        }
      ]
    },
    {
      "cell_type": "markdown",
      "source": [
        "**Pemodelan dengan Student Adaptivity Dataset**\n",
        "\n",
        "Kita akan melakukan pemodelan untuk 9 model berbeda diantaranya logistic regression, decision tree, random forest, MLP, XGBoost, KNeighbors, QuadraticDiscriminantAnalysis, GaussianNB, SVC."
      ],
      "metadata": {
        "id": "xST1-nsO0uhc"
      }
    },
    {
      "cell_type": "code",
      "source": [
        "# Menyiapkan libraries\n",
        "from sklearn.linear_model import LogisticRegression\n",
        "from sklearn.tree import DecisionTreeClassifier\n",
        "from sklearn.ensemble import RandomForestClassifier\n",
        "from sklearn.metrics import accuracy_score, precision_score, recall_score, roc_curve, roc_auc_score\n",
        "from sklearn.neural_network import MLPClassifier\n",
        "from sklearn.naive_bayes import GaussianNB\n",
        "from xgboost import XGBClassifier\n",
        "from lightgbm import LGBMClassifier\n",
        "from sklearn.neighbors import KNeighborsClassifier\n",
        "from sklearn.discriminant_analysis import QuadraticDiscriminantAnalysis\n",
        "from sklearn.svm import SVC\n",
        "from sklearn.model_selection import GridSearchCV\n",
        "from sklearn.model_selection import train_test_split\n",
        "from sklearn.preprocessing import LabelEncoder, StandardScaler\n",
        "\n"
      ],
      "metadata": {
        "id": "KmO3RMlp0qEM"
      },
      "execution_count": 10,
      "outputs": []
    },
    {
      "cell_type": "code",
      "source": [
        "# pengalian informasi Logistik Regresi dan hitung akurasinya\n",
        "clf = LogisticRegression()\n",
        "# train the classifier\n",
        "clf.fit(X_train, y_train)\n",
        "y_pred = clf.predict(X_test)\n",
        "# printing the test accuracy\n",
        "print(\"The test accuracy score of Logistric Regression Classifier is \", accuracy_score(y_test, y_pred))"
      ],
      "metadata": {
        "colab": {
          "base_uri": "https://localhost:8080/"
        },
        "id": "ljgdzReh1M2N",
        "outputId": "e2dbf893-e54b-46da-cf80-6a3d6c50f1fa"
      },
      "execution_count": 11,
      "outputs": [
        {
          "output_type": "stream",
          "name": "stdout",
          "text": [
            "The test accuracy score of Logistric Regression Classifier is  0.5961538461538461\n"
          ]
        }
      ]
    },
    {
      "cell_type": "code",
      "source": [
        "print(classification_report(y_test, y_pred))"
      ],
      "metadata": {
        "colab": {
          "base_uri": "https://localhost:8080/"
        },
        "id": "yZU1bUPB1Q4s",
        "outputId": "ee789f9c-97a3-4889-a1a2-d159af08bc15"
      },
      "execution_count": 12,
      "outputs": [
        {
          "output_type": "stream",
          "name": "stdout",
          "text": [
            "              precision    recall  f1-score   support\n",
            "\n",
            "           0       0.65      0.54      0.59        28\n",
            "           1       0.55      0.67      0.60        24\n",
            "\n",
            "    accuracy                           0.60        52\n",
            "   macro avg       0.60      0.60      0.60        52\n",
            "weighted avg       0.61      0.60      0.60        52\n",
            "\n"
          ]
        }
      ]
    },
    {
      "cell_type": "code",
      "source": [
        "# pengalian informasi Decision Tree dan hitung akurasinya\n",
        "clf = DecisionTreeClassifier()\n",
        "# train the classifier\n",
        "clf.fit(X_train, y_train)\n",
        "y_pred = clf.predict(X_test)\n",
        "# printing the test accuracy\n",
        "print(\"The test accuracy score of Decision Tree Classifier is \", accuracy_score(y_test, y_pred))"
      ],
      "metadata": {
        "colab": {
          "base_uri": "https://localhost:8080/"
        },
        "id": "C0zrb2Ou1Ujs",
        "outputId": "370701f9-8e52-4586-c132-0cc4dfbadee4"
      },
      "execution_count": 13,
      "outputs": [
        {
          "output_type": "stream",
          "name": "stdout",
          "text": [
            "The test accuracy score of Decision Tree Classifier is  0.5192307692307693\n"
          ]
        }
      ]
    },
    {
      "cell_type": "code",
      "source": [
        "print(classification_report(y_test, y_pred))"
      ],
      "metadata": {
        "colab": {
          "base_uri": "https://localhost:8080/"
        },
        "id": "bd4W7bSe1hy8",
        "outputId": "b98fc4d6-a0c9-4105-9411-d68adf705e08"
      },
      "execution_count": 14,
      "outputs": [
        {
          "output_type": "stream",
          "name": "stdout",
          "text": [
            "              precision    recall  f1-score   support\n",
            "\n",
            "           0       0.58      0.54      0.56        28\n",
            "           1       0.50      0.50      0.50        24\n",
            "           2       0.00      0.00      0.00         0\n",
            "\n",
            "    accuracy                           0.52        52\n",
            "   macro avg       0.36      0.35      0.35        52\n",
            "weighted avg       0.54      0.52      0.53        52\n",
            "\n"
          ]
        }
      ]
    },
    {
      "cell_type": "code",
      "source": [
        "# pengalian informasi Random Forest dan hitung akurasinya\n",
        "clf = RandomForestClassifier()\n",
        "# train the classifier\n",
        "clf.fit(X_train, y_train)\n",
        "y_pred = clf.predict(X_test)\n",
        "# printing the test accuracy\n",
        "print(\"The test accuracy score of Random Forest Classifier is \", accuracy_score(y_test, y_pred))"
      ],
      "metadata": {
        "colab": {
          "base_uri": "https://localhost:8080/"
        },
        "id": "mvBlA9p91las",
        "outputId": "34a90559-47c1-45b3-8f6a-15f4567e5e74"
      },
      "execution_count": 15,
      "outputs": [
        {
          "output_type": "stream",
          "name": "stdout",
          "text": [
            "The test accuracy score of Random Forest Classifier is  0.5192307692307693\n"
          ]
        }
      ]
    },
    {
      "cell_type": "code",
      "source": [
        "print(classification_report(y_test, y_pred))"
      ],
      "metadata": {
        "colab": {
          "base_uri": "https://localhost:8080/"
        },
        "id": "WvpsvaVj1rvN",
        "outputId": "016f9603-61ac-4dfe-f791-da536279ac16"
      },
      "execution_count": 16,
      "outputs": [
        {
          "output_type": "stream",
          "name": "stdout",
          "text": [
            "              precision    recall  f1-score   support\n",
            "\n",
            "           0       0.58      0.50      0.54        28\n",
            "           1       0.50      0.54      0.52        24\n",
            "           2       0.00      0.00      0.00         0\n",
            "\n",
            "    accuracy                           0.52        52\n",
            "   macro avg       0.36      0.35      0.35        52\n",
            "weighted avg       0.54      0.52      0.53        52\n",
            "\n"
          ]
        }
      ]
    },
    {
      "cell_type": "code",
      "source": [
        "# pengalian informasi MLP dan hitung akurasinya\n",
        "clf = MLPClassifier()\n",
        "# train the classifier\n",
        "clf.fit(X_train, y_train)\n",
        "y_pred = clf.predict(X_test)\n",
        "# printing the test accuracy\n",
        "print(\"The test accuracy score of MLP Classifier is \", accuracy_score(y_test, y_pred))"
      ],
      "metadata": {
        "colab": {
          "base_uri": "https://localhost:8080/"
        },
        "id": "lS7tgLRt1v1l",
        "outputId": "a0dc75d7-80ec-4bf1-dd3e-29a940df1a23"
      },
      "execution_count": 17,
      "outputs": [
        {
          "output_type": "stream",
          "name": "stdout",
          "text": [
            "The test accuracy score of MLP Classifier is  0.5961538461538461\n"
          ]
        }
      ]
    },
    {
      "cell_type": "code",
      "source": [
        "print(classification_report(y_test, y_pred))"
      ],
      "metadata": {
        "colab": {
          "base_uri": "https://localhost:8080/"
        },
        "id": "uhzIlKjB11TF",
        "outputId": "d7ffd8de-fee9-4868-aca8-61f66c1345be"
      },
      "execution_count": 18,
      "outputs": [
        {
          "output_type": "stream",
          "name": "stdout",
          "text": [
            "              precision    recall  f1-score   support\n",
            "\n",
            "           0       0.68      0.54      0.60        28\n",
            "           1       0.55      0.67      0.60        24\n",
            "           2       0.00      0.00      0.00         0\n",
            "\n",
            "    accuracy                           0.60        52\n",
            "   macro avg       0.41      0.40      0.40        52\n",
            "weighted avg       0.62      0.60      0.60        52\n",
            "\n"
          ]
        }
      ]
    },
    {
      "cell_type": "code",
      "source": [
        "# pengalian informasi XGBClassifier dan hitung akurasinya\n",
        "clf = XGBClassifier()\n",
        "# train the classifier\n",
        "clf.fit(X_train, y_train)\n",
        "y_pred = clf.predict(X_test)\n",
        "# printing the test accuracy\n",
        "print(\"The test accuracy score of XGB Classifier is \", accuracy_score(y_test, y_pred))"
      ],
      "metadata": {
        "colab": {
          "base_uri": "https://localhost:8080/"
        },
        "id": "Kf0ZhLY-4GxU",
        "outputId": "682b27df-a818-4378-9214-458dc2c81aca"
      },
      "execution_count": 19,
      "outputs": [
        {
          "output_type": "stream",
          "name": "stdout",
          "text": [
            "The test accuracy score of XGB Classifier is  0.5769230769230769\n"
          ]
        }
      ]
    },
    {
      "cell_type": "code",
      "source": [
        "print(classification_report(y_test, y_pred))"
      ],
      "metadata": {
        "colab": {
          "base_uri": "https://localhost:8080/"
        },
        "id": "p9-d2jJh5Gk8",
        "outputId": "e8e9de52-624b-409f-83bf-a6b10f2aeae6"
      },
      "execution_count": 20,
      "outputs": [
        {
          "output_type": "stream",
          "name": "stdout",
          "text": [
            "              precision    recall  f1-score   support\n",
            "\n",
            "           0       0.64      0.57      0.60        28\n",
            "           1       0.56      0.58      0.57        24\n",
            "           2       0.00      0.00      0.00         0\n",
            "\n",
            "    accuracy                           0.58        52\n",
            "   macro avg       0.40      0.38      0.39        52\n",
            "weighted avg       0.60      0.58      0.59        52\n",
            "\n"
          ]
        }
      ]
    },
    {
      "cell_type": "code",
      "source": [
        "# pengalian informasi KNeighborsClassifier dan hitung akurasinya\n",
        "clf = KNeighborsClassifier(n_neighbors=5)\n",
        "# train the classifier\n",
        "clf.fit(X_train, y_train)\n",
        "y_pred = clf.predict(X_test)\n",
        "# printing the test accuracy\n",
        "print(\"The test accuracy score of KNeighbors Classifier is \", accuracy_score(y_test, y_pred))"
      ],
      "metadata": {
        "colab": {
          "base_uri": "https://localhost:8080/"
        },
        "id": "kLElzUgp6LZc",
        "outputId": "4e62b6c8-9b1a-459c-cbd8-c1c4353fd930"
      },
      "execution_count": 21,
      "outputs": [
        {
          "output_type": "stream",
          "name": "stdout",
          "text": [
            "The test accuracy score of KNeighbors Classifier is  0.5384615384615384\n"
          ]
        }
      ]
    },
    {
      "cell_type": "code",
      "source": [
        "print(classification_report(y_test, y_pred))"
      ],
      "metadata": {
        "colab": {
          "base_uri": "https://localhost:8080/"
        },
        "id": "fGSYqLT86l11",
        "outputId": "14e9a92c-2ada-4c9e-b5f8-ab9102bc9006"
      },
      "execution_count": 22,
      "outputs": [
        {
          "output_type": "stream",
          "name": "stdout",
          "text": [
            "              precision    recall  f1-score   support\n",
            "\n",
            "           0       0.57      0.61      0.59        28\n",
            "           1       0.50      0.46      0.48        24\n",
            "\n",
            "    accuracy                           0.54        52\n",
            "   macro avg       0.53      0.53      0.53        52\n",
            "weighted avg       0.54      0.54      0.54        52\n",
            "\n"
          ]
        }
      ]
    },
    {
      "cell_type": "code",
      "source": [
        "# pengalian informasi QuadraticDiscriminantAnalysis dan hitung akurasinya\n",
        "clf = QuadraticDiscriminantAnalysis()\n",
        "# train the classifier\n",
        "clf.fit(X_train, y_train)\n",
        "y_pred = clf.predict(X_test)\n",
        "# printing the test accuracy\n",
        "print(\"The test accuracy score of QuadraticDiscriminantAnalysis Classifier is \", accuracy_score(y_test, y_pred))"
      ],
      "metadata": {
        "colab": {
          "base_uri": "https://localhost:8080/"
        },
        "id": "RkLVrFTC71S0",
        "outputId": "ab45e596-1d5c-4023-85e2-84cf6d543930"
      },
      "execution_count": 23,
      "outputs": [
        {
          "output_type": "stream",
          "name": "stdout",
          "text": [
            "The test accuracy score of QuadraticDiscriminantAnalysis Classifier is  0.5769230769230769\n"
          ]
        }
      ]
    },
    {
      "cell_type": "code",
      "source": [
        "print(classification_report(y_test, y_pred))"
      ],
      "metadata": {
        "colab": {
          "base_uri": "https://localhost:8080/"
        },
        "id": "pe0NIaKu8Mfc",
        "outputId": "d4bb52ae-cd57-4e30-968d-8f4855e6fc42"
      },
      "execution_count": 24,
      "outputs": [
        {
          "output_type": "stream",
          "name": "stdout",
          "text": [
            "              precision    recall  f1-score   support\n",
            "\n",
            "           0       0.61      0.61      0.61        28\n",
            "           1       0.62      0.54      0.58        24\n",
            "           2       0.00      0.00      0.00         0\n",
            "\n",
            "    accuracy                           0.58        52\n",
            "   macro avg       0.41      0.38      0.39        52\n",
            "weighted avg       0.61      0.58      0.59        52\n",
            "\n"
          ]
        }
      ]
    },
    {
      "cell_type": "code",
      "source": [
        "# pengalian informasi GaussianNB dan hitung akurasinya\n",
        "clf = GaussianNB()\n",
        "# train the classifier\n",
        "clf.fit(X_train, y_train)\n",
        "y_pred = clf.predict(X_test)\n",
        "# printing the test accuracy\n",
        "print(\"The test accuracy score of GaussianNB Classifier is \", accuracy_score(y_test, y_pred))"
      ],
      "metadata": {
        "colab": {
          "base_uri": "https://localhost:8080/"
        },
        "id": "ixx5y5Zm8Spc",
        "outputId": "baaa575d-d596-437d-ef59-60317aa7b354"
      },
      "execution_count": 25,
      "outputs": [
        {
          "output_type": "stream",
          "name": "stdout",
          "text": [
            "The test accuracy score of GaussianNB Classifier is  0.5384615384615384\n"
          ]
        }
      ]
    },
    {
      "cell_type": "code",
      "source": [
        "print(classification_report(y_test, y_pred))"
      ],
      "metadata": {
        "colab": {
          "base_uri": "https://localhost:8080/"
        },
        "id": "Q6lb2w9I8aek",
        "outputId": "827a2cc2-9c8c-4d56-d049-dcca5fc69f20"
      },
      "execution_count": 26,
      "outputs": [
        {
          "output_type": "stream",
          "name": "stdout",
          "text": [
            "              precision    recall  f1-score   support\n",
            "\n",
            "           0       0.63      0.61      0.62        28\n",
            "           1       0.52      0.46      0.49        24\n",
            "           2       0.00      0.00      0.00         0\n",
            "\n",
            "    accuracy                           0.54        52\n",
            "   macro avg       0.38      0.36      0.37        52\n",
            "weighted avg       0.58      0.54      0.56        52\n",
            "\n"
          ]
        }
      ]
    },
    {
      "cell_type": "code",
      "source": [
        "# pengalian informasi SVC dan hitung akurasinya\n",
        "clf = SVC(kernel='linear')\n",
        "# train the classifier\n",
        "clf.fit(X_train, y_train)\n",
        "y_pred = clf.predict(X_test)\n",
        "# printing the test accuracy\n",
        "print(\"The test accuracy score of SVC Classifier is \", accuracy_score(y_test, y_pred))"
      ],
      "metadata": {
        "colab": {
          "base_uri": "https://localhost:8080/"
        },
        "id": "SWrevG578vWM",
        "outputId": "30457cd7-00bf-4568-c0d9-177f2636e287"
      },
      "execution_count": 27,
      "outputs": [
        {
          "output_type": "stream",
          "name": "stdout",
          "text": [
            "The test accuracy score of SVC Classifier is  0.6153846153846154\n"
          ]
        }
      ]
    },
    {
      "cell_type": "code",
      "source": [
        "print(classification_report(y_test, y_pred))"
      ],
      "metadata": {
        "colab": {
          "base_uri": "https://localhost:8080/"
        },
        "id": "VJ6l2GEv84N0",
        "outputId": "58d14c7e-ae04-4749-f4e5-d1704352d827"
      },
      "execution_count": 28,
      "outputs": [
        {
          "output_type": "stream",
          "name": "stdout",
          "text": [
            "              precision    recall  f1-score   support\n",
            "\n",
            "           0       0.70      0.50      0.58        28\n",
            "           1       0.56      0.75      0.64        24\n",
            "\n",
            "    accuracy                           0.62        52\n",
            "   macro avg       0.63      0.62      0.61        52\n",
            "weighted avg       0.64      0.62      0.61        52\n",
            "\n"
          ]
        }
      ]
    },
    {
      "cell_type": "markdown",
      "source": [
        "**Membandingkan hasil diatas**\n",
        "\n",
        "Logistric Regression Classifier akurasi 0.60\n",
        "\n",
        "Decision Tree Classifier akurasi 0.52\n",
        "\n",
        "Random Forest Classifier akurasi 0.54\n",
        "\n",
        "MLP Classifier akurasi 0.54\n",
        "\n",
        "XGB Classifier akurasi 0.58\n",
        "\n",
        "KNeighbors Classifier akurasi 0.54\n",
        "\n",
        "QuadraticDiscriminantAnalysis Classifier akurasi 0.58\n",
        "\n",
        "GaussianNB Classifier akurasi 0.54\n",
        "\n",
        "SVC Classifier akurasi 0.62\n",
        "\n",
        "Dari data di atas, kita akan analisa lebih lanjut Logistric Regression Classifier, XGB Classifier, QuadraticDiscriminantAnalysis Classifier, SVC Classifier"
      ],
      "metadata": {
        "id": "Vvlm6gVOEnM8"
      }
    },
    {
      "cell_type": "markdown",
      "source": [
        "**Proses Hyperparameter Tuning**"
      ],
      "metadata": {
        "id": "9GCabVzxGFek"
      }
    },
    {
      "cell_type": "code",
      "source": [
        "# Logistic regression classifier with hyperparameter\n",
        "clf = LogisticRegression()\n",
        "\n",
        "param_grid1 = {\n",
        "    'max_iter': [30, 50, 100, 150],\n",
        "    'multi_class': ['auto'],\n",
        "    'solver' : ['lbfgs', 'newton-cholesky']\n",
        "}\n",
        "\n",
        "gs1 = GridSearchCV(\n",
        "        estimator= clf,\n",
        "        param_grid = param_grid1,\n",
        "        cv=5,\n",
        "        n_jobs=-1,\n",
        "        scoring='accuracy'\n",
        "    )\n",
        "\n",
        "fit_clf_lg = gs1.fit(X_train, y_train)\n",
        "\n",
        "print(fit_clf_lg.best_score_)\n",
        "print(fit_clf_lg.best_params_)"
      ],
      "metadata": {
        "colab": {
          "base_uri": "https://localhost:8080/"
        },
        "id": "qUVVqmLEGEbs",
        "outputId": "50cdaddd-224a-4443-8577-87c8c430aabd"
      },
      "execution_count": 29,
      "outputs": [
        {
          "output_type": "stream",
          "name": "stdout",
          "text": [
            "0.5734146341463415\n",
            "{'max_iter': 30, 'multi_class': 'auto', 'solver': 'lbfgs'}\n"
          ]
        }
      ]
    },
    {
      "cell_type": "code",
      "source": [
        "y_pred = fit_clf_lg.predict(X_test)\n",
        "print(classification_report(y_test, y_pred))"
      ],
      "metadata": {
        "colab": {
          "base_uri": "https://localhost:8080/"
        },
        "id": "cptdZ6FxGlkM",
        "outputId": "82f28c22-4e8e-4813-c156-e96cf00d579c"
      },
      "execution_count": 30,
      "outputs": [
        {
          "output_type": "stream",
          "name": "stdout",
          "text": [
            "              precision    recall  f1-score   support\n",
            "\n",
            "           0       0.65      0.54      0.59        28\n",
            "           1       0.55      0.67      0.60        24\n",
            "\n",
            "    accuracy                           0.60        52\n",
            "   macro avg       0.60      0.60      0.60        52\n",
            "weighted avg       0.61      0.60      0.60        52\n",
            "\n"
          ]
        }
      ]
    },
    {
      "cell_type": "markdown",
      "source": [
        "Setelah dilakukan hyperparameter tuning model logistic regression tidak terjadi peningkatan pada nilai akurasi. Nilai akurasi tetap di angka 60%"
      ],
      "metadata": {
        "id": "RP6uhIHL9FOb"
      }
    },
    {
      "cell_type": "code",
      "source": [
        "# XGBClassifier with hyperparameter\n",
        "clf = XGBClassifier(random_state=42)\n",
        "\n",
        "param_grid1 = {\n",
        "    'n_estimators': [100, 200, 300],\n",
        "    'max_depth': [3, 5, 7],\n",
        "    'learning_rate': [0.01, 0.1, 0.2],\n",
        "    'subsample': [0.8, 1.0],\n",
        "    'colsample_bytree': [0.8, 1.0]\n",
        "}\n",
        "\n",
        "gs1 = GridSearchCV(\n",
        "        estimator= clf,\n",
        "        param_grid = param_grid1,\n",
        "        cv=5,\n",
        "        n_jobs=-1,\n",
        "        scoring='accuracy'\n",
        "    )\n",
        "\n",
        "fit_clf_xgb = gs1.fit(X_train, y_train)\n",
        "\n",
        "print(fit_clf_xgb.best_score_)\n",
        "print(fit_clf_xgb.best_params_)"
      ],
      "metadata": {
        "colab": {
          "base_uri": "https://localhost:8080/"
        },
        "id": "pSpLEGoAG1Wj",
        "outputId": "890bebc2-4887-448e-e90e-1da8619e05dc"
      },
      "execution_count": 31,
      "outputs": [
        {
          "output_type": "stream",
          "name": "stdout",
          "text": [
            "0.6273170731707317\n",
            "{'colsample_bytree': 1.0, 'learning_rate': 0.01, 'max_depth': 5, 'n_estimators': 300, 'subsample': 0.8}\n"
          ]
        }
      ]
    },
    {
      "cell_type": "code",
      "source": [
        "y_pred = fit_clf_xgb.predict(X_test)\n",
        "print(classification_report(y_test, y_pred))"
      ],
      "metadata": {
        "colab": {
          "base_uri": "https://localhost:8080/"
        },
        "id": "fJOFsbf5HpVd",
        "outputId": "4e943d98-9d05-4f11-d663-272814b6de34"
      },
      "execution_count": 32,
      "outputs": [
        {
          "output_type": "stream",
          "name": "stdout",
          "text": [
            "              precision    recall  f1-score   support\n",
            "\n",
            "           0       0.68      0.54      0.60        28\n",
            "           1       0.59      0.71      0.64        24\n",
            "           2       0.00      0.00      0.00         0\n",
            "\n",
            "    accuracy                           0.62        52\n",
            "   macro avg       0.42      0.41      0.41        52\n",
            "weighted avg       0.64      0.62      0.62        52\n",
            "\n"
          ]
        }
      ]
    },
    {
      "cell_type": "markdown",
      "source": [
        "Setelah dilakukan hyperparameter tuning model XGBoost terjadi peningkatan pada nilai akurasi. Nilai akurasi dari 58% menjadi 63%"
      ],
      "metadata": {
        "id": "aXjT6YCE9UrV"
      }
    },
    {
      "cell_type": "code",
      "source": [
        "# QuadraticDiscriminantAnalysis with hyperparameter\n",
        "clf = QuadraticDiscriminantAnalysis()\n",
        "\n",
        "param_grid1 = {}\n",
        "\n",
        "gs1 = GridSearchCV(\n",
        "        estimator= clf,\n",
        "        param_grid = param_grid1,\n",
        "        cv=5,\n",
        "        n_jobs=-1,\n",
        "        scoring='accuracy'\n",
        "    )\n",
        "\n",
        "fit_clf_qda = gs1.fit(X_train, y_train)\n",
        "\n",
        "print(fit_clf_qda.best_score_)\n",
        "print(fit_clf_qda.best_params_)"
      ],
      "metadata": {
        "colab": {
          "base_uri": "https://localhost:8080/"
        },
        "id": "d6OGoCXmH90L",
        "outputId": "bff4b20c-ff68-4a54-a54e-20b6bafaf633"
      },
      "execution_count": 33,
      "outputs": [
        {
          "output_type": "stream",
          "name": "stdout",
          "text": [
            "0.461219512195122\n",
            "{}\n"
          ]
        }
      ]
    },
    {
      "cell_type": "code",
      "source": [
        "y_pred = fit_clf_qda.predict(X_test)\n",
        "print(classification_report(y_test, y_pred))"
      ],
      "metadata": {
        "colab": {
          "base_uri": "https://localhost:8080/"
        },
        "id": "MnqvxDxQI6dz",
        "outputId": "ec50ef0a-e0d9-49ea-c528-fe381f1e473f"
      },
      "execution_count": 34,
      "outputs": [
        {
          "output_type": "stream",
          "name": "stdout",
          "text": [
            "              precision    recall  f1-score   support\n",
            "\n",
            "           0       0.61      0.61      0.61        28\n",
            "           1       0.62      0.54      0.58        24\n",
            "           2       0.00      0.00      0.00         0\n",
            "\n",
            "    accuracy                           0.58        52\n",
            "   macro avg       0.41      0.38      0.39        52\n",
            "weighted avg       0.61      0.58      0.59        52\n",
            "\n"
          ]
        }
      ]
    },
    {
      "cell_type": "markdown",
      "source": [
        "Setelah dilakukan hyperparameter tuning model QDA tidak terjadi peningkatan pada nilai akurasi. Nilai akurasi tetap di angka 58%"
      ],
      "metadata": {
        "id": "_b6GyO1x9ohD"
      }
    },
    {
      "cell_type": "code",
      "source": [
        "# SVC classifier with hyperparameter\n",
        "clf = SVC(probability=True)\n",
        "\n",
        "param_grid1 = {\n",
        "    'C': [0.1, 1, 10],\n",
        "    'kernel': ['linear', 'rbf', 'poly'],\n",
        "    'gamma': ['scale', 'auto'],\n",
        "    'degree': [2, 3, 4]\n",
        "}\n",
        "\n",
        "gs1 = GridSearchCV(\n",
        "        estimator= clf,\n",
        "        param_grid = param_grid1,\n",
        "        cv=5,\n",
        "        n_jobs=-1,\n",
        "        scoring='accuracy'\n",
        "    )\n",
        "\n",
        "fit_clf_svc = gs1.fit(X_train, y_train)\n",
        "\n",
        "print(fit_clf_svc.best_score_)\n",
        "print(fit_clf_svc.best_params_)"
      ],
      "metadata": {
        "colab": {
          "base_uri": "https://localhost:8080/"
        },
        "id": "pwvR4kkhITJE",
        "outputId": "0f20966b-1e83-4126-f327-2057adc67025"
      },
      "execution_count": 35,
      "outputs": [
        {
          "output_type": "stream",
          "name": "stdout",
          "text": [
            "0.6076829268292683\n",
            "{'C': 1, 'degree': 2, 'gamma': 'scale', 'kernel': 'rbf'}\n"
          ]
        }
      ]
    },
    {
      "cell_type": "code",
      "source": [
        "y_pred = fit_clf_svc.predict(X_test)\n",
        "print(classification_report(y_test, y_pred))"
      ],
      "metadata": {
        "colab": {
          "base_uri": "https://localhost:8080/"
        },
        "id": "QW5Qo8_wJque",
        "outputId": "6c0dade0-7c15-4cca-808d-89c267ec9811"
      },
      "execution_count": 36,
      "outputs": [
        {
          "output_type": "stream",
          "name": "stdout",
          "text": [
            "              precision    recall  f1-score   support\n",
            "\n",
            "           0       0.65      0.54      0.59        28\n",
            "           1       0.55      0.67      0.60        24\n",
            "\n",
            "    accuracy                           0.60        52\n",
            "   macro avg       0.60      0.60      0.60        52\n",
            "weighted avg       0.61      0.60      0.60        52\n",
            "\n"
          ]
        }
      ]
    },
    {
      "cell_type": "markdown",
      "source": [
        "Setelah dilakukan hyperparameter tuning model SVC terjadi penurunan pada nilai akurasi. Nilai akurasi dari 62% menjadi 60%. Ini artinya proses hyperparameter tuning pada SVC gagal"
      ],
      "metadata": {
        "id": "A9Gny3O19vTC"
      }
    },
    {
      "cell_type": "markdown",
      "source": [
        "**ROC Analysis**\n",
        "\n",
        "Kurva yang menyajikan ilustrasi performansi dari binary classifier system dalam menghasilkan sebuah prediksi"
      ],
      "metadata": {
        "id": "IIDpzIkQJ1DT"
      }
    },
    {
      "cell_type": "code",
      "source": [
        "# Predict the probabilities for the positive class\n",
        "y_pred_logreg = fit_clf_lg.predict_proba(X_test)[:, 1]\n",
        "y_pred_xgb = fit_clf_xgb.predict_proba(X_test)[:, 1]\n",
        "y_pred_qda= fit_clf_qda.predict_proba(X_test)[:, 1]\n",
        "y_pred_svc= fit_clf_svc.predict_proba(X_test)[:, 1]\n",
        "\n",
        "# Calculate the AUC-ROC scores\n",
        "auc_logreg = roc_auc_score(y_test, y_pred_logreg)\n",
        "auc_xgb = roc_auc_score(y_test, y_pred_xgb)\n",
        "auc_qda = roc_auc_score(y_test, y_pred_qda)\n",
        "auc_svc = roc_auc_score(y_test, y_pred_svc)\n",
        "\n",
        "print(f\"AUC-ROC for Logistic Regression: {auc_logreg}\")\n",
        "print(f\"AUC-ROC for XGBoost: {auc_xgb}\")\n",
        "print(f\"AUC-ROC for QuadraticDiscriminantAnalysis: {auc_qda}\")\n",
        "print(f\"AUC-ROC for SVC: {auc_svc}\")"
      ],
      "metadata": {
        "colab": {
          "base_uri": "https://localhost:8080/"
        },
        "id": "KJF2kpN_J0yj",
        "outputId": "a27dbd09-bae4-4391-c348-c6303269266c"
      },
      "execution_count": 37,
      "outputs": [
        {
          "output_type": "stream",
          "name": "stdout",
          "text": [
            "AUC-ROC for Logistic Regression: 0.6755952380952381\n",
            "AUC-ROC for XGBoost: 0.6309523809523809\n",
            "AUC-ROC for QuadraticDiscriminantAnalysis: 0.636904761904762\n",
            "AUC-ROC for SVC: 0.5833333333333333\n"
          ]
        }
      ]
    },
    {
      "cell_type": "markdown",
      "source": [
        "Jika dilihat dari nilai AUC-ROC, model Logistic Regression memiliki nilai yang paling tinggi. Akan tetapi perbedaan nilai AUC-ROC Logistic Regression dengan 1 model lainnya tidak terpaut jauh."
      ],
      "metadata": {
        "id": "jSyNzvd9-G9a"
      }
    },
    {
      "cell_type": "code",
      "source": [
        "#Membuat ROC Analisis\n",
        "def plot_roc_curves(y_test, y_pred_logreg, y_pred_xgb, y_pred_qda, y_pred_svc):\n",
        "    plt.figure(figsize=(8, 6))\n",
        "\n",
        "    # Calculate ROC curves for each model\n",
        "    fpr_logreg, tpr_logreg, _ = roc_curve(y_test, y_pred_logreg)\n",
        "    fpr_xgb, tpr_xgb, _ = roc_curve(y_test, y_pred_xgb)\n",
        "    fpr_qda, tpr_qda, _ = roc_curve(y_test, y_pred_qda)\n",
        "    fpr_svc, tpr_svc, _ = roc_curve(y_test, y_pred_svc)\n",
        "\n",
        "    # Plot ROC curves\n",
        "    plt.plot(fpr_logreg, tpr_logreg, label=f'Logistic Regression (AUC = {auc_logreg:.2f})')\n",
        "    plt.plot(fpr_xgb, tpr_xgb, label=f'XGBoost (AUC = {auc_xgb:.2f})')\n",
        "    plt.plot(fpr_qda, tpr_qda, label=f'QuadraticDiscriminantAnalysis (AUC = {auc_qda:.2f})')\n",
        "    plt.plot(fpr_svc, tpr_svc, label=f'SVC (AUC = {auc_svc:.2f})')\n",
        "\n",
        "    # Plot random classifier\n",
        "    plt.plot([0,1], [0,1], linestyle=\"--\", color=\"gray\")\n",
        "\n",
        "    # Format the plot\n",
        "    plt.xlabel('False Positive Rate')\n",
        "    plt.ylabel('True Positive Rate')\n",
        "    plt.title('ROC Curves for Student Adaptivity Level')\n",
        "    plt.legend()\n",
        "    plt.show()\n",
        "\n",
        "plot_roc_curves(y_test, y_pred_logreg, y_pred_xgb, y_pred_qda, y_pred_svc)"
      ],
      "metadata": {
        "colab": {
          "base_uri": "https://localhost:8080/",
          "height": 564
        },
        "id": "KYmbdvrcNA8z",
        "outputId": "ca342a27-ebbd-41d4-e1ef-39c62278b05c"
      },
      "execution_count": 38,
      "outputs": [
        {
          "output_type": "display_data",
          "data": {
            "text/plain": [
              "<Figure size 800x600 with 1 Axes>"
            ],
            "image/png": "[encoded data removed]"
          },
          "metadata": {}
        }
      ]
    },
    {
      "cell_type": "code",
      "source": [
        "#ROC Analysis Graph untuk menentukan treshold'''\n",
        "def find_rates_for_thresholds(y_test, y_pred, threshold):\n",
        "    fpr_list = []\n",
        "    tpr_list = []\n",
        "    for threshold in thresholds:\n",
        "        y_pred_binary = (y_pred > threshold).astype(int)\n",
        "        tn, fp, fn, tp = confusion_matrix(y_test, y_pred_binary).ravel()\n",
        "        fpr = fp / (fp + tn)\n",
        "        tpr = tp / (tp + fn)\n",
        "        fpr_list.append(fpr)\n",
        "        tpr_list.append(tpr)\n",
        "    return fpr_list, tpr_list\n",
        "\n",
        "thresholds = np.arange(0, 1.1, 0.1)\n",
        "\n",
        "fpr_logreg, tpr_logreg = find_rates_for_thresholds(y_test, y_pred_logreg, thresholds)\n",
        "fpr_xgb, tpr_xgb = find_rates_for_thresholds(y_test, y_pred_xgb, thresholds)\n",
        "fpr_qda, tpr_qda = find_rates_for_thresholds(y_test, y_pred_qda, thresholds)\n",
        "fpr_svc, tpr_svc = find_rates_for_thresholds(y_test, y_pred_svc, thresholds)\n",
        "\n",
        "'''TODO: Silahkan buat Summary DataFrame'''\n",
        "summary_df = pd.DataFrame({\n",
        "    'Threshold' : thresholds,\n",
        "    'FPR_logreg' : fpr_logreg,\n",
        "    'FPR_XGB' : fpr_xgb,\n",
        "    'FPR_QDA' : fpr_qda,\n",
        "    'FPR_SVC' : fpr_svc,\n",
        "    'TPR_logreg' : tpr_logreg,\n",
        "    'TPR_XGB' : tpr_xgb,\n",
        "    'TPR_QDA' : tpr_qda,\n",
        "    'TPR_SVC' : tpr_svc,\n",
        "})\n",
        "\n",
        "print(summary_df)"
      ],
      "metadata": {
        "colab": {
          "base_uri": "https://localhost:8080/"
        },
        "id": "LPzlXUE7N_EK",
        "outputId": "a8674752-835d-490c-8b3e-5f80c592d115"
      },
      "execution_count": 39,
      "outputs": [
        {
          "output_type": "stream",
          "name": "stdout",
          "text": [
            "    Threshold  FPR_logreg   FPR_XGB   FPR_QDA   FPR_SVC  TPR_logreg   TPR_XGB  \\\n",
            "0         0.0    1.000000  1.000000  1.000000  1.000000    1.000000  1.000000   \n",
            "1         0.1    0.857143  0.678571  0.571429  0.964286    1.000000  0.916667   \n",
            "2         0.2    0.642857  0.678571  0.428571  0.678571    0.875000  0.875000   \n",
            "3         0.3    0.607143  0.571429  0.357143  0.571429    0.875000  0.791667   \n",
            "4         0.4    0.571429  0.464286  0.321429  0.535714    0.833333  0.666667   \n",
            "5         0.5    0.285714  0.321429  0.285714  0.392857    0.500000  0.541667   \n",
            "6         0.6    0.142857  0.250000  0.285714  0.321429    0.333333  0.291667   \n",
            "7         0.7    0.071429  0.107143  0.250000  0.035714    0.166667  0.166667   \n",
            "8         0.8    0.000000  0.035714  0.178571  0.000000    0.041667  0.041667   \n",
            "9         0.9    0.000000  0.000000  0.142857  0.000000    0.000000  0.000000   \n",
            "10        1.0    0.000000  0.000000  0.000000  0.000000    0.000000  0.000000   \n",
            "\n",
            "     TPR_QDA   TPR_SVC  \n",
            "0   1.000000  1.000000  \n",
            "1   0.708333  1.000000  \n",
            "2   0.625000  0.916667  \n",
            "3   0.583333  0.875000  \n",
            "4   0.583333  0.666667  \n",
            "5   0.541667  0.458333  \n",
            "6   0.500000  0.208333  \n",
            "7   0.458333  0.041667  \n",
            "8   0.375000  0.000000  \n",
            "9   0.208333  0.000000  \n",
            "10  0.000000  0.000000  \n"
          ]
        }
      ]
    },
    {
      "cell_type": "code",
      "source": [
        "#ROC Analysis Graph untuk menentukan best treshold'''\n",
        "def find_best_threshold(y_test, y_pred):\n",
        "    # based on Youden's Index\n",
        "    fpr, tpr, thresholds = roc_curve(y_test, y_pred)\n",
        "    optimal_idx = np.argmax(tpr - fpr)\n",
        "    return thresholds[optimal_idx]\n",
        "\n",
        "best_threshold_logreg = find_best_threshold(y_test, y_pred_logreg)\n",
        "best_threshold_xgb = find_best_threshold(y_test, y_pred_xgb)\n",
        "best_threshold_qda = find_best_threshold(y_test, y_pred_qda)\n",
        "best_threshold_svc = find_best_threshold(y_test, y_pred_svc)\n",
        "\n",
        "print(f\"Best threshold for Logistic Regression: {best_threshold_logreg}\")\n",
        "print(f\"Best threshold for XGBoost: {best_threshold_xgb}\")\n",
        "print(f\"Best threshold for QuadraticDiscriminantAnalysis: {best_threshold_qda}\")\n",
        "print(f\"Best threshold for SVC: {best_threshold_svc}\")"
      ],
      "metadata": {
        "colab": {
          "base_uri": "https://localhost:8080/"
        },
        "id": "nKyrqfViOjp0",
        "outputId": "25269aab-d180-4590-c857-5f31d3862434"
      },
      "execution_count": 40,
      "outputs": [
        {
          "output_type": "stream",
          "name": "stdout",
          "text": [
            "Best threshold for Logistic Regression: 0.5444749696626747\n",
            "Best threshold for XGBoost: 0.045841969549655914\n",
            "Best threshold for QuadraticDiscriminantAnalysis: 0.4316199006525323\n",
            "Best threshold for SVC: 0.31113495439801137\n"
          ]
        }
      ]
    },
    {
      "cell_type": "markdown",
      "source": [
        "Jadi dapat disimpulkan, bahwa model yang peformanya lebih bagus ialah model Logistic Regression dengan ditandai dengan model Logistic Regression yang memiliki nilai akurasi pada classification sebesar 60% dan memiliki score AUC-ROC Terbesar dibandingkan 3 model lainnya, yaitu sebesar 68%, namun model ini memiliki treshold yang tinggi dimana akan meningkatkan FPR (Kasus negatif yang salah diprediksi positif)."
      ],
      "metadata": {
        "id": "iQSPuKUO-aV6"
      }
    },
    {
      "cell_type": "code",
      "source": [
        "import pickle\n",
        "# Menyimpan model terbaik dengan pickle\n",
        "pklname = \"best_model_logreg.pkl\"\n",
        "\n",
        "with open(pklname, 'wb') as file:\n",
        "    pickle.dump(fit_clf_lg, file)"
      ],
      "metadata": {
        "id": "uLhQXO9APF6D"
      },
      "execution_count": 41,
      "outputs": []
    },
    {
      "cell_type": "markdown",
      "source": [
        "Copyright © DQlab Academy x Fitri Rachmawati"
      ],
      "metadata": {
        "id": "Nzqd3LBM_KvC"
      }
    }
  ]
}