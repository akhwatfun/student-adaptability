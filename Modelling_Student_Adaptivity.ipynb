{
  "nbformat": 4,
  "nbformat_minor": 0,
  "metadata": {
    "colab": {
      "provenance": []
    },
    "kernelspec": {
      "name": "python3",
      "display_name": "Python 3"
    },
    "language_info": {
      "name": "python"
    }
  },
  "cells": [
    {
      "cell_type": "code",
      "execution_count": 131,
      "metadata": {
        "id": "UA6EeIqly-9U"
      },
      "outputs": [],
      "source": [
        "import numpy as np\n",
        "import pandas as pd\n",
        "import math\n",
        "import random\n",
        "import seaborn as sns\n",
        "from scipy.stats import pearsonr, jarque_bera\n",
        "import matplotlib.pyplot as plt\n",
        "from sklearn.preprocessing import StandardScaler\n",
        "from sklearn.model_selection import train_test_split\n",
        "from sklearn import tree\n",
        "from sklearn.ensemble import RandomForestClassifier\n",
        "from sklearn.tree import DecisionTreeClassifier\n",
        "from sklearn.decomposition import PCA\n",
        "from sklearn.metrics import accuracy_score, confusion_matrix, precision_score, recall_score, classification_report, confusion_matrix, f1_score\n",
        "from sklearn.model_selection import cross_val_score\n",
        "import warnings\n",
        "warnings.filterwarnings(\"ignore\")\n",
        "\n",
        "%matplotlib inline\n",
        "\n",
        "# Memuat dataset yang sudah rapi ditahapan sebelumnya\n",
        "data = \"data.csv\"\n",
        "df = pd.read_csv(data, index_col=0)\n",
        "\n",
        "df['Gender'] = df['Gender'].replace({'Boy': 1,\n",
        "                                   'Girl': 0})\n",
        "df['Age'] = df['Age'].replace({'1-5': 0,\n",
        "                                '6-10': 1,\n",
        "                                '11-15': 2,\n",
        "                                '16-20': 3,\n",
        "                                '21-25': 4,\n",
        "                                '26-30': 5})\n",
        "df['Education Level'] = df['Education Level'].replace({'School': 0,\n",
        "                                       'College': 1,\n",
        "                                       'University': 2})\n",
        "df['Institution Type'] = df['Institution Type'].replace({'Non Government': 0,\n",
        "                                       'Government': 1})\n",
        "df['IT Student'] = df['IT Student'].replace({'No': 0,\n",
        "                                       'Yes': 1})\n",
        "df['Location'] = df['Location'].replace({'Yes': 1,\n",
        "                                   'No': 0})\n",
        "df['Load-shedding'] = df['Load-shedding'].replace({'Low': 0,\n",
        "                                   'High': 1})\n",
        "df['Financial Condition'] = df['Financial Condition'].replace({'Poor': 1,\n",
        "                                     'Mid': 2,\n",
        "                                     'Rich': 3})\n",
        "df['Internet Type'] = df['Internet Type'].replace({'Mobile Data': 1,\n",
        "                                   'Wifi': 2})\n",
        "df['Network Type'] = df['Network Type'].replace({'2G': 1,\n",
        "                                     '3G': 2,\n",
        "                                     '4G': 3})\n",
        "df['Class Duration'] = df['Class Duration'].replace({'0': 0,\n",
        "                                  '1-3': 1,\n",
        "                                  '3-6': 2})\n",
        "df['Self LMS'] = df['Self LMS'].replace({'No': 0,\n",
        "                                       'Yes': 1})\n",
        "df['Device'] = df['Device'].replace({'Tab': 1,\n",
        "                                     'Mobile': 2,\n",
        "                                     'Computer': 3})\n",
        "df['Adaptivity Level'] = df['Adaptivity Level'].replace({'Low': 0,\n",
        "                                         'Moderate': 1,\n",
        "                                         'High': 2})\n",
        "\n",
        "# Memasukkan 7 variabel terpilih\n",
        "variabel = [\"Institution Type\",  \"Location\",\n",
        "                \"Load-shedding\", \"Financial Condition\", \"Internet Type\", \"Network Type\", \"Class Duration\"\n",
        "                ]\n",
        "analyze = df[variabel]"
      ]
    },
    {
      "cell_type": "code",
      "source": [
        "# Liat informasi dari dataset yang kita miliki\n",
        "print(df.head())\n",
        "print(df.columns)"
      ],
      "metadata": {
        "colab": {
          "base_uri": "https://localhost:8080/"
        },
        "id": "lPOCF3yHzugF",
        "outputId": "d73c832f-11f3-41f3-bf88-05864925ced3"
      },
      "execution_count": 132,
      "outputs": [
        {
          "output_type": "stream",
          "name": "stdout",
          "text": [
            "   Gender  Age  Education Level  Institution Type  IT Student  Location  \\\n",
            "0       1    4                2                 0           0         1   \n",
            "1       0    4                2                 0           0         1   \n",
            "2       0    3                1                 1           0         1   \n",
            "3       0    2                0                 0           0         1   \n",
            "4       0    3                0                 0           0         1   \n",
            "\n",
            "   Load-shedding  Financial Condition  Internet Type  Network Type  \\\n",
            "0              0                    2              2             3   \n",
            "1              1                    2              1             3   \n",
            "2              0                    2              2             3   \n",
            "3              0                    2              1             3   \n",
            "4              0                    1              1             2   \n",
            "\n",
            "   Class Duration  Self LMS  Device  Adaptivity Level  \n",
            "0               2         0       1                 1  \n",
            "1               1         1       2                 1  \n",
            "2               1         0       2                 1  \n",
            "3               1         0       2                 1  \n",
            "4               0         0       2                 0  \n",
            "Index(['Gender', 'Age', 'Education Level', 'Institution Type', 'IT Student',\n",
            "       'Location', 'Load-shedding', 'Financial Condition', 'Internet Type',\n",
            "       'Network Type', 'Class Duration', 'Self LMS', 'Device',\n",
            "       'Adaptivity Level'],\n",
            "      dtype='object')\n"
          ]
        }
      ]
    },
    {
      "cell_type": "markdown",
      "source": [
        "**Memisahkan variabel dependen dan independen**\n",
        "\n",
        "Variabel dependen yang digunakan adalah data pada kolom 'target', kolom feature merupakan variabel independen."
      ],
      "metadata": {
        "id": "Zl_Iu_sa0frc"
      }
    },
    {
      "cell_type": "code",
      "source": [
        "# Define X and y\n",
        "X = df.loc[:, ~df.columns.isin([\"Adaptivity Level\"])]\n",
        "y = df[\"Adaptivity Level\"]"
      ],
      "metadata": {
        "id": "qOWotulmz2yH"
      },
      "execution_count": 133,
      "outputs": []
    },
    {
      "cell_type": "code",
      "source": [
        "# Melihat kolom yang termasuk variable indepnden\n",
        "X.head()"
      ],
      "metadata": {
        "colab": {
          "base_uri": "https://localhost:8080/",
          "height": 206
        },
        "id": "LFSmbWjj0G5V",
        "outputId": "fa7eaf7f-a59d-43bd-be03-73289ba2d7dd"
      },
      "execution_count": 134,
      "outputs": [
        {
          "output_type": "execute_result",
          "data": {
            "text/plain": [
              "   Gender  Age  Education Level  Institution Type  IT Student  Location  \\\n",
              "0       1    4                2                 0           0         1   \n",
              "1       0    4                2                 0           0         1   \n",
              "2       0    3                1                 1           0         1   \n",
              "3       0    2                0                 0           0         1   \n",
              "4       0    3                0                 0           0         1   \n",
              "\n",
              "   Load-shedding  Financial Condition  Internet Type  Network Type  \\\n",
              "0              0                    2              2             3   \n",
              "1              1                    2              1             3   \n",
              "2              0                    2              2             3   \n",
              "3              0                    2              1             3   \n",
              "4              0                    1              1             2   \n",
              "\n",
              "   Class Duration  Self LMS  Device  \n",
              "0               2         0       1  \n",
              "1               1         1       2  \n",
              "2               1         0       2  \n",
              "3               1         0       2  \n",
              "4               0         0       2  "
            ],
            "text/html": [
              "\n",
              "  <div id=\"df-013014f1-9bb2-4b9b-ad4c-a1dd44ca593f\" class=\"colab-df-container\">\n",
              "    <div>\n",
              "<style scoped>\n",
              "    .dataframe tbody tr th:only-of-type {\n",
              "        vertical-align: middle;\n",
              "    }\n",
              "\n",
              "    .dataframe tbody tr th {\n",
              "        vertical-align: top;\n",
              "    }\n",
              "\n",
              "    .dataframe thead th {\n",
              "        text-align: right;\n",
              "    }\n",
              "</style>\n",
              "<table border=\"1\" class=\"dataframe\">\n",
              "  <thead>\n",
              "    <tr style=\"text-align: right;\">\n",
              "      <th></th>\n",
              "      <th>Gender</th>\n",
              "      <th>Age</th>\n",
              "      <th>Education Level</th>\n",
              "      <th>Institution Type</th>\n",
              "      <th>IT Student</th>\n",
              "      <th>Location</th>\n",
              "      <th>Load-shedding</th>\n",
              "      <th>Financial Condition</th>\n",
              "      <th>Internet Type</th>\n",
              "      <th>Network Type</th>\n",
              "      <th>Class Duration</th>\n",
              "      <th>Self LMS</th>\n",
              "      <th>Device</th>\n",
              "    </tr>\n",
              "  </thead>\n",
              "  <tbody>\n",
              "    <tr>\n",
              "      <th>0</th>\n",
              "      <td>1</td>\n",
              "      <td>4</td>\n",
              "      <td>2</td>\n",
              "      <td>0</td>\n",
              "      <td>0</td>\n",
              "      <td>1</td>\n",
              "      <td>0</td>\n",
              "      <td>2</td>\n",
              "      <td>2</td>\n",
              "      <td>3</td>\n",
              "      <td>2</td>\n",
              "      <td>0</td>\n",
              "      <td>1</td>\n",
              "    </tr>\n",
              "    <tr>\n",
              "      <th>1</th>\n",
              "      <td>0</td>\n",
              "      <td>4</td>\n",
              "      <td>2</td>\n",
              "      <td>0</td>\n",
              "      <td>0</td>\n",
              "      <td>1</td>\n",
              "      <td>1</td>\n",
              "      <td>2</td>\n",
              "      <td>1</td>\n",
              "      <td>3</td>\n",
              "      <td>1</td>\n",
              "      <td>1</td>\n",
              "      <td>2</td>\n",
              "    </tr>\n",
              "    <tr>\n",
              "      <th>2</th>\n",
              "      <td>0</td>\n",
              "      <td>3</td>\n",
              "      <td>1</td>\n",
              "      <td>1</td>\n",
              "      <td>0</td>\n",
              "      <td>1</td>\n",
              "      <td>0</td>\n",
              "      <td>2</td>\n",
              "      <td>2</td>\n",
              "      <td>3</td>\n",
              "      <td>1</td>\n",
              "      <td>0</td>\n",
              "      <td>2</td>\n",
              "    </tr>\n",
              "    <tr>\n",
              "      <th>3</th>\n",
              "      <td>0</td>\n",
              "      <td>2</td>\n",
              "      <td>0</td>\n",
              "      <td>0</td>\n",
              "      <td>0</td>\n",
              "      <td>1</td>\n",
              "      <td>0</td>\n",
              "      <td>2</td>\n",
              "      <td>1</td>\n",
              "      <td>3</td>\n",
              "      <td>1</td>\n",
              "      <td>0</td>\n",
              "      <td>2</td>\n",
              "    </tr>\n",
              "    <tr>\n",
              "      <th>4</th>\n",
              "      <td>0</td>\n",
              "      <td>3</td>\n",
              "      <td>0</td>\n",
              "      <td>0</td>\n",
              "      <td>0</td>\n",
              "      <td>1</td>\n",
              "      <td>0</td>\n",
              "      <td>1</td>\n",
              "      <td>1</td>\n",
              "      <td>2</td>\n",
              "      <td>0</td>\n",
              "      <td>0</td>\n",
              "      <td>2</td>\n",
              "    </tr>\n",
              "  </tbody>\n",
              "</table>\n",
              "</div>\n",
              "    <div class=\"colab-df-buttons\">\n",
              "\n",
              "  <div class=\"colab-df-container\">\n",
              "    <button class=\"colab-df-convert\" onclick=\"convertToInteractive('df-013014f1-9bb2-4b9b-ad4c-a1dd44ca593f')\"\n",
              "            title=\"Convert this dataframe to an interactive table.\"\n",
              "            style=\"display:none;\">\n",
              "\n",
              "  <svg xmlns=\"http://www.w3.org/2000/svg\" height=\"24px\" viewBox=\"0 -960 960 960\">\n",
              "    <path d=\"M120-120v-720h720v720H120Zm60-500h600v-160H180v160Zm220 220h160v-160H400v160Zm0 220h160v-160H400v160ZM180-400h160v-160H180v160Zm440 0h160v-160H620v160ZM180-180h160v-160H180v160Zm440 0h160v-160H620v160Z\"/>\n",
              "  </svg>\n",
              "    </button>\n",
              "\n",
              "  <style>\n",
              "    .colab-df-container {\n",
              "      display:flex;\n",
              "      gap: 12px;\n",
              "    }\n",
              "\n",
              "    .colab-df-convert {\n",
              "      background-color: #E8F0FE;\n",
              "      border: none;\n",
              "      border-radius: 50%;\n",
              "      cursor: pointer;\n",
              "      display: none;\n",
              "      fill: #1967D2;\n",
              "      height: 32px;\n",
              "      padding: 0 0 0 0;\n",
              "      width: 32px;\n",
              "    }\n",
              "\n",
              "    .colab-df-convert:hover {\n",
              "      background-color: #E2EBFA;\n",
              "      box-shadow: 0px 1px 2px rgba(60, 64, 67, 0.3), 0px 1px 3px 1px rgba(60, 64, 67, 0.15);\n",
              "      fill: #174EA6;\n",
              "    }\n",
              "\n",
              "    .colab-df-buttons div {\n",
              "      margin-bottom: 4px;\n",
              "    }\n",
              "\n",
              "    [theme=dark] .colab-df-convert {\n",
              "      background-color: #3B4455;\n",
              "      fill: #D2E3FC;\n",
              "    }\n",
              "\n",
              "    [theme=dark] .colab-df-convert:hover {\n",
              "      background-color: #434B5C;\n",
              "      box-shadow: 0px 1px 3px 1px rgba(0, 0, 0, 0.15);\n",
              "      filter: drop-shadow(0px 1px 2px rgba(0, 0, 0, 0.3));\n",
              "      fill: #FFFFFF;\n",
              "    }\n",
              "  </style>\n",
              "\n",
              "    <script>\n",
              "      const buttonEl =\n",
              "        document.querySelector('#df-013014f1-9bb2-4b9b-ad4c-a1dd44ca593f button.colab-df-convert');\n",
              "      buttonEl.style.display =\n",
              "        google.colab.kernel.accessAllowed ? 'block' : 'none';\n",
              "\n",
              "      async function convertToInteractive(key) {\n",
              "        const element = document.querySelector('#df-013014f1-9bb2-4b9b-ad4c-a1dd44ca593f');\n",
              "        const dataTable =\n",
              "          await google.colab.kernel.invokeFunction('convertToInteractive',\n",
              "                                                    [key], {});\n",
              "        if (!dataTable) return;\n",
              "\n",
              "        const docLinkHtml = 'Like what you see? Visit the ' +\n",
              "          '<a target=\"_blank\" href=https://colab.research.google.com/notebooks/data_table.ipynb>data table notebook</a>'\n",
              "          + ' to learn more about interactive tables.';\n",
              "        element.innerHTML = '';\n",
              "        dataTable['output_type'] = 'display_data';\n",
              "        await google.colab.output.renderOutput(dataTable, element);\n",
              "        const docLink = document.createElement('div');\n",
              "        docLink.innerHTML = docLinkHtml;\n",
              "        element.appendChild(docLink);\n",
              "      }\n",
              "    </script>\n",
              "  </div>\n",
              "\n",
              "\n",
              "<div id=\"df-3213f289-0912-4683-95cc-1dc905186cf1\">\n",
              "  <button class=\"colab-df-quickchart\" onclick=\"quickchart('df-3213f289-0912-4683-95cc-1dc905186cf1')\"\n",
              "            title=\"Suggest charts.\"\n",
              "            style=\"display:none;\">\n",
              "\n",
              "<svg xmlns=\"http://www.w3.org/2000/svg\" height=\"24px\"viewBox=\"0 0 24 24\"\n",
              "     width=\"24px\">\n",
              "    <g>\n",
              "        <path d=\"M19 3H5c-1.1 0-2 .9-2 2v14c0 1.1.9 2 2 2h14c1.1 0 2-.9 2-2V5c0-1.1-.9-2-2-2zM9 17H7v-7h2v7zm4 0h-2V7h2v10zm4 0h-2v-4h2v4z\"/>\n",
              "    </g>\n",
              "</svg>\n",
              "  </button>\n",
              "\n",
              "<style>\n",
              "  .colab-df-quickchart {\n",
              "    background-color: #E8F0FE;\n",
              "    border: none;\n",
              "    border-radius: 50%;\n",
              "    cursor: pointer;\n",
              "    display: none;\n",
              "    fill: #1967D2;\n",
              "    height: 32px;\n",
              "    padding: 0 0 0 0;\n",
              "    width: 32px;\n",
              "  }\n",
              "\n",
              "  .colab-df-quickchart:hover {\n",
              "    background-color: #E2EBFA;\n",
              "    box-shadow: 0px 1px 2px rgba(60, 64, 67, 0.3), 0px 1px 3px 1px rgba(60, 64, 67, 0.15);\n",
              "    fill: #174EA6;\n",
              "  }\n",
              "\n",
              "  [theme=dark] .colab-df-quickchart {\n",
              "    background-color: #3B4455;\n",
              "    fill: #D2E3FC;\n",
              "  }\n",
              "\n",
              "  [theme=dark] .colab-df-quickchart:hover {\n",
              "    background-color: #434B5C;\n",
              "    box-shadow: 0px 1px 3px 1px rgba(0, 0, 0, 0.15);\n",
              "    filter: drop-shadow(0px 1px 2px rgba(0, 0, 0, 0.3));\n",
              "    fill: #FFFFFF;\n",
              "  }\n",
              "</style>\n",
              "\n",
              "  <script>\n",
              "    async function quickchart(key) {\n",
              "      const charts = await google.colab.kernel.invokeFunction(\n",
              "          'suggestCharts', [key], {});\n",
              "    }\n",
              "    (() => {\n",
              "      let quickchartButtonEl =\n",
              "        document.querySelector('#df-3213f289-0912-4683-95cc-1dc905186cf1 button');\n",
              "      quickchartButtonEl.style.display =\n",
              "        google.colab.kernel.accessAllowed ? 'block' : 'none';\n",
              "    })();\n",
              "  </script>\n",
              "</div>\n",
              "    </div>\n",
              "  </div>\n"
            ]
          },
          "metadata": {},
          "execution_count": 134
        }
      ]
    },
    {
      "cell_type": "code",
      "source": [
        "# Melihat variabel dependen\n",
        "y.head()"
      ],
      "metadata": {
        "colab": {
          "base_uri": "https://localhost:8080/"
        },
        "id": "ixCQNWlg0KfV",
        "outputId": "3f7866ad-f879-40d2-e804-2187f4f44888"
      },
      "execution_count": 135,
      "outputs": [
        {
          "output_type": "execute_result",
          "data": {
            "text/plain": [
              "0    1\n",
              "1    1\n",
              "2    1\n",
              "3    1\n",
              "4    0\n",
              "Name: Adaptivity Level, dtype: int64"
            ]
          },
          "metadata": {},
          "execution_count": 135
        }
      ]
    },
    {
      "cell_type": "code",
      "source": [
        "# Mendefinisikan standard scaler\n",
        "scaler = StandardScaler()\n",
        "X_scaled = scaler.fit_transform(X)"
      ],
      "metadata": {
        "id": "quYRLC4N0OZd"
      },
      "execution_count": 136,
      "outputs": []
    },
    {
      "cell_type": "code",
      "source": [
        "X_scaled"
      ],
      "metadata": {
        "colab": {
          "base_uri": "https://localhost:8080/"
        },
        "id": "8ksro9J00RXN",
        "outputId": "ed5153a8-cb38-40d1-c82d-aae20e46a608"
      },
      "execution_count": 137,
      "outputs": [
        {
          "output_type": "execute_result",
          "data": {
            "text/plain": [
              "array([[ 0.8542422 ,  0.74051171,  0.96614445, ...,  1.59188267,\n",
              "        -0.54122943, -2.77168489],\n",
              "       [-1.17062819,  0.74051171,  0.96614445, ..., -0.07147228,\n",
              "         1.84764529, -0.35000799],\n",
              "       [-1.17062819, -0.12510928, -0.17363886, ..., -0.07147228,\n",
              "        -0.54122943, -0.35000799],\n",
              "       ...,\n",
              "       [-1.17062819, -0.12510928, -0.17363886, ..., -0.07147228,\n",
              "         1.84764529, -0.35000799],\n",
              "       [ 0.8542422 ,  0.74051171,  0.96614445, ..., -0.07147228,\n",
              "         1.84764529, -0.35000799],\n",
              "       [ 0.8542422 ,  0.74051171,  0.96614445, ...,  1.59188267,\n",
              "        -0.54122943,  2.07166891]])"
            ]
          },
          "metadata": {},
          "execution_count": 137
        }
      ]
    },
    {
      "cell_type": "markdown",
      "source": [
        "**Spliting data**\n",
        "\n",
        "Pisahkan dataset menjadi training dan testing dataset dengan perbandingan 80:20 dan random state 42!"
      ],
      "metadata": {
        "id": "xB5q4baP0YS9"
      }
    },
    {
      "cell_type": "code",
      "source": [
        "# Mendefinisikan pemisahan data\n",
        "X_train, X_test, y_train, y_test = train_test_split(X_scaled , y, test_size=0.2, random_state=100)\n",
        "\n",
        "# Menampilkan hasil pemisahan berdasarkan kolom dan baris\n",
        "print(X_train.shape)\n",
        "print(X_test.shape)\n",
        "print(y_train.shape)\n",
        "print(y_test.shape)"
      ],
      "metadata": {
        "colab": {
          "base_uri": "https://localhost:8080/"
        },
        "id": "SvB60rAq0Uyu",
        "outputId": "7ecadc10-40f8-4759-ac13-8ce04628d94e"
      },
      "execution_count": 138,
      "outputs": [
        {
          "output_type": "stream",
          "name": "stdout",
          "text": [
            "(204, 13)\n",
            "(52, 13)\n",
            "(204,)\n",
            "(52,)\n"
          ]
        }
      ]
    },
    {
      "cell_type": "markdown",
      "source": [
        "**Pemodelan dengan Student Adaptivity Dataset**\n",
        "\n",
        "Kita akan melakukan pemodelan untuk 4 model berbeda diantaranya logistic regression, decision tree, random forest dan neural networks."
      ],
      "metadata": {
        "id": "xST1-nsO0uhc"
      }
    },
    {
      "cell_type": "code",
      "source": [
        "# Menyiapkan libraries\n",
        "from sklearn.linear_model import LogisticRegression\n",
        "from sklearn.tree import DecisionTreeClassifier\n",
        "from sklearn.ensemble import RandomForestClassifier\n",
        "from sklearn.metrics import accuracy_score, precision_score, recall_score, roc_curve, roc_auc_score\n",
        "from sklearn.neural_network import MLPClassifier\n",
        "from sklearn.naive_bayes import GaussianNB\n",
        "from xgboost import XGBClassifier\n",
        "from lightgbm import LGBMClassifier\n",
        "from sklearn.neighbors import KNeighborsClassifier\n",
        "from sklearn.discriminant_analysis import QuadraticDiscriminantAnalysis\n",
        "from sklearn.svm import SVC\n",
        "from sklearn.model_selection import GridSearchCV\n",
        "from sklearn.model_selection import train_test_split\n",
        "from sklearn.preprocessing import LabelEncoder, StandardScaler\n",
        "\n"
      ],
      "metadata": {
        "id": "KmO3RMlp0qEM"
      },
      "execution_count": 139,
      "outputs": []
    },
    {
      "cell_type": "code",
      "source": [
        "# pengalian informasi Logistik Regresi dan hitung akurasinya\n",
        "clf = LogisticRegression()\n",
        "# train the classifier\n",
        "clf.fit(X_train, y_train)\n",
        "y_pred = clf.predict(X_test)\n",
        "# printing the test accuracy\n",
        "print(\"The test accuracy score of Logistric Regression Classifier is \", accuracy_score(y_test, y_pred))"
      ],
      "metadata": {
        "colab": {
          "base_uri": "https://localhost:8080/"
        },
        "id": "ljgdzReh1M2N",
        "outputId": "17800fea-7c96-4574-fdae-ea84741127e6"
      },
      "execution_count": 140,
      "outputs": [
        {
          "output_type": "stream",
          "name": "stdout",
          "text": [
            "The test accuracy score of Logistric Regression Classifier is  0.5961538461538461\n"
          ]
        }
      ]
    },
    {
      "cell_type": "code",
      "source": [
        "print(classification_report(y_test, y_pred))"
      ],
      "metadata": {
        "colab": {
          "base_uri": "https://localhost:8080/"
        },
        "id": "yZU1bUPB1Q4s",
        "outputId": "6761bb0c-584d-4c5d-9e4f-e596f1aca1c2"
      },
      "execution_count": 141,
      "outputs": [
        {
          "output_type": "stream",
          "name": "stdout",
          "text": [
            "              precision    recall  f1-score   support\n",
            "\n",
            "           0       0.65      0.54      0.59        28\n",
            "           1       0.55      0.67      0.60        24\n",
            "\n",
            "    accuracy                           0.60        52\n",
            "   macro avg       0.60      0.60      0.60        52\n",
            "weighted avg       0.61      0.60      0.60        52\n",
            "\n"
          ]
        }
      ]
    },
    {
      "cell_type": "code",
      "source": [
        "# pengalian informasi Decision Tree dan hitung akurasinya\n",
        "clf = DecisionTreeClassifier()\n",
        "# train the classifier\n",
        "clf.fit(X_train, y_train)\n",
        "y_pred = clf.predict(X_test)\n",
        "# printing the test accuracy\n",
        "print(\"The test accuracy score of Decision Tree Classifier is \", accuracy_score(y_test, y_pred))"
      ],
      "metadata": {
        "colab": {
          "base_uri": "https://localhost:8080/"
        },
        "id": "C0zrb2Ou1Ujs",
        "outputId": "f8ed501a-b54f-4f0d-e548-41ffcaa39e85"
      },
      "execution_count": 142,
      "outputs": [
        {
          "output_type": "stream",
          "name": "stdout",
          "text": [
            "The test accuracy score of Decision Tree Classifier is  0.5\n"
          ]
        }
      ]
    },
    {
      "cell_type": "code",
      "source": [
        "print(classification_report(y_test, y_pred))"
      ],
      "metadata": {
        "colab": {
          "base_uri": "https://localhost:8080/"
        },
        "id": "bd4W7bSe1hy8",
        "outputId": "2151307e-2b94-4ec3-eb9c-8161bf351690"
      },
      "execution_count": 143,
      "outputs": [
        {
          "output_type": "stream",
          "name": "stdout",
          "text": [
            "              precision    recall  f1-score   support\n",
            "\n",
            "           0       0.59      0.57      0.58        28\n",
            "           1       0.48      0.42      0.44        24\n",
            "           2       0.00      0.00      0.00         0\n",
            "\n",
            "    accuracy                           0.50        52\n",
            "   macro avg       0.36      0.33      0.34        52\n",
            "weighted avg       0.54      0.50      0.52        52\n",
            "\n"
          ]
        }
      ]
    },
    {
      "cell_type": "code",
      "source": [
        "# pengalian informasi Random Forest dan hitung akurasinya\n",
        "clf = RandomForestClassifier()\n",
        "# train the classifier\n",
        "clf.fit(X_train, y_train)\n",
        "y_pred = clf.predict(X_test)\n",
        "# printing the test accuracy\n",
        "print(\"The test accuracy score of Random Forest Classifier is \", accuracy_score(y_test, y_pred))"
      ],
      "metadata": {
        "colab": {
          "base_uri": "https://localhost:8080/"
        },
        "id": "mvBlA9p91las",
        "outputId": "27b1bbe7-2fea-4d07-af26-b35965f341b4"
      },
      "execution_count": 144,
      "outputs": [
        {
          "output_type": "stream",
          "name": "stdout",
          "text": [
            "The test accuracy score of Random Forest Classifier is  0.5384615384615384\n"
          ]
        }
      ]
    },
    {
      "cell_type": "code",
      "source": [
        "print(classification_report(y_test, y_pred))"
      ],
      "metadata": {
        "colab": {
          "base_uri": "https://localhost:8080/"
        },
        "id": "WvpsvaVj1rvN",
        "outputId": "662316c2-e275-4021-8737-3e695d699c61"
      },
      "execution_count": 145,
      "outputs": [
        {
          "output_type": "stream",
          "name": "stdout",
          "text": [
            "              precision    recall  f1-score   support\n",
            "\n",
            "           0       0.59      0.57      0.58        28\n",
            "           1       0.52      0.50      0.51        24\n",
            "           2       0.00      0.00      0.00         0\n",
            "\n",
            "    accuracy                           0.54        52\n",
            "   macro avg       0.37      0.36      0.36        52\n",
            "weighted avg       0.56      0.54      0.55        52\n",
            "\n"
          ]
        }
      ]
    },
    {
      "cell_type": "code",
      "source": [
        "# pengalian informasi MLP dan hitung akurasinya\n",
        "clf = MLPClassifier()\n",
        "# train the classifier\n",
        "clf.fit(X_train, y_train)\n",
        "y_pred = clf.predict(X_test)\n",
        "# printing the test accuracy\n",
        "print(\"The test accuracy score of MLP Classifier is \", accuracy_score(y_test, y_pred))"
      ],
      "metadata": {
        "colab": {
          "base_uri": "https://localhost:8080/"
        },
        "id": "lS7tgLRt1v1l",
        "outputId": "fb7d9904-d102-4338-e9f7-7fa64ceb907b"
      },
      "execution_count": 146,
      "outputs": [
        {
          "output_type": "stream",
          "name": "stdout",
          "text": [
            "The test accuracy score of MLP Classifier is  0.5769230769230769\n"
          ]
        }
      ]
    },
    {
      "cell_type": "code",
      "source": [
        "print(classification_report(y_test, y_pred))"
      ],
      "metadata": {
        "colab": {
          "base_uri": "https://localhost:8080/"
        },
        "id": "uhzIlKjB11TF",
        "outputId": "e097b90c-b564-4a83-df22-7b27df83a18d"
      },
      "execution_count": 147,
      "outputs": [
        {
          "output_type": "stream",
          "name": "stdout",
          "text": [
            "              precision    recall  f1-score   support\n",
            "\n",
            "           0       0.61      0.61      0.61        28\n",
            "           1       0.54      0.54      0.54        24\n",
            "\n",
            "    accuracy                           0.58        52\n",
            "   macro avg       0.57      0.57      0.57        52\n",
            "weighted avg       0.58      0.58      0.58        52\n",
            "\n"
          ]
        }
      ]
    },
    {
      "cell_type": "code",
      "source": [
        "# pengalian informasi XGBClassifier dan hitung akurasinya\n",
        "clf = XGBClassifier()\n",
        "# train the classifier\n",
        "clf.fit(X_train, y_train)\n",
        "y_pred = clf.predict(X_test)\n",
        "# printing the test accuracy\n",
        "print(\"The test accuracy score of XGB Classifier is \", accuracy_score(y_test, y_pred))"
      ],
      "metadata": {
        "colab": {
          "base_uri": "https://localhost:8080/"
        },
        "id": "Kf0ZhLY-4GxU",
        "outputId": "4ef764ab-5d99-4a12-a606-74fbeda4b0c2"
      },
      "execution_count": 148,
      "outputs": [
        {
          "output_type": "stream",
          "name": "stdout",
          "text": [
            "The test accuracy score of XGB Classifier is  0.5769230769230769\n"
          ]
        }
      ]
    },
    {
      "cell_type": "code",
      "source": [
        "print(classification_report(y_test, y_pred))"
      ],
      "metadata": {
        "colab": {
          "base_uri": "https://localhost:8080/"
        },
        "id": "p9-d2jJh5Gk8",
        "outputId": "f430650d-a785-4f72-c5a3-5b6b904b3fb1"
      },
      "execution_count": 149,
      "outputs": [
        {
          "output_type": "stream",
          "name": "stdout",
          "text": [
            "              precision    recall  f1-score   support\n",
            "\n",
            "           0       0.64      0.57      0.60        28\n",
            "           1       0.56      0.58      0.57        24\n",
            "           2       0.00      0.00      0.00         0\n",
            "\n",
            "    accuracy                           0.58        52\n",
            "   macro avg       0.40      0.38      0.39        52\n",
            "weighted avg       0.60      0.58      0.59        52\n",
            "\n"
          ]
        }
      ]
    },
    {
      "cell_type": "code",
      "source": [
        "# pengalian informasi KNeighborsClassifier dan hitung akurasinya\n",
        "clf = KNeighborsClassifier(n_neighbors=5)\n",
        "# train the classifier\n",
        "clf.fit(X_train, y_train)\n",
        "y_pred = clf.predict(X_test)\n",
        "# printing the test accuracy\n",
        "print(\"The test accuracy score of KNeighbors Classifier is \", accuracy_score(y_test, y_pred))"
      ],
      "metadata": {
        "colab": {
          "base_uri": "https://localhost:8080/"
        },
        "id": "kLElzUgp6LZc",
        "outputId": "3552824f-5752-4660-986e-659fb27c8b34"
      },
      "execution_count": 150,
      "outputs": [
        {
          "output_type": "stream",
          "name": "stdout",
          "text": [
            "The test accuracy score of KNeighbors Classifier is  0.5384615384615384\n"
          ]
        }
      ]
    },
    {
      "cell_type": "code",
      "source": [
        "print(classification_report(y_test, y_pred))"
      ],
      "metadata": {
        "colab": {
          "base_uri": "https://localhost:8080/"
        },
        "id": "fGSYqLT86l11",
        "outputId": "88e22718-ae3d-4aeb-c3b3-495b5dec9a6d"
      },
      "execution_count": 151,
      "outputs": [
        {
          "output_type": "stream",
          "name": "stdout",
          "text": [
            "              precision    recall  f1-score   support\n",
            "\n",
            "           0       0.57      0.61      0.59        28\n",
            "           1       0.50      0.46      0.48        24\n",
            "\n",
            "    accuracy                           0.54        52\n",
            "   macro avg       0.53      0.53      0.53        52\n",
            "weighted avg       0.54      0.54      0.54        52\n",
            "\n"
          ]
        }
      ]
    },
    {
      "cell_type": "code",
      "source": [
        "# pengalian informasi QuadraticDiscriminantAnalysis dan hitung akurasinya\n",
        "clf = QuadraticDiscriminantAnalysis()\n",
        "# train the classifier\n",
        "clf.fit(X_train, y_train)\n",
        "y_pred = clf.predict(X_test)\n",
        "# printing the test accuracy\n",
        "print(\"The test accuracy score of QuadraticDiscriminantAnalysis Classifier is \", accuracy_score(y_test, y_pred))"
      ],
      "metadata": {
        "colab": {
          "base_uri": "https://localhost:8080/"
        },
        "id": "RkLVrFTC71S0",
        "outputId": "e9a040f9-dab4-4922-f57c-7437ef01a2d9"
      },
      "execution_count": 152,
      "outputs": [
        {
          "output_type": "stream",
          "name": "stdout",
          "text": [
            "The test accuracy score of QuadraticDiscriminantAnalysis Classifier is  0.5769230769230769\n"
          ]
        }
      ]
    },
    {
      "cell_type": "code",
      "source": [
        "print(classification_report(y_test, y_pred))"
      ],
      "metadata": {
        "colab": {
          "base_uri": "https://localhost:8080/"
        },
        "id": "pe0NIaKu8Mfc",
        "outputId": "bb977122-4a48-4e9e-a405-08019cfd7ea6"
      },
      "execution_count": 153,
      "outputs": [
        {
          "output_type": "stream",
          "name": "stdout",
          "text": [
            "              precision    recall  f1-score   support\n",
            "\n",
            "           0       0.61      0.61      0.61        28\n",
            "           1       0.62      0.54      0.58        24\n",
            "           2       0.00      0.00      0.00         0\n",
            "\n",
            "    accuracy                           0.58        52\n",
            "   macro avg       0.41      0.38      0.39        52\n",
            "weighted avg       0.61      0.58      0.59        52\n",
            "\n"
          ]
        }
      ]
    },
    {
      "cell_type": "code",
      "source": [
        "# pengalian informasi GaussianNB dan hitung akurasinya\n",
        "clf = GaussianNB()\n",
        "# train the classifier\n",
        "clf.fit(X_train, y_train)\n",
        "y_pred = clf.predict(X_test)\n",
        "# printing the test accuracy\n",
        "print(\"The test accuracy score of GaussianNB Classifier is \", accuracy_score(y_test, y_pred))"
      ],
      "metadata": {
        "colab": {
          "base_uri": "https://localhost:8080/"
        },
        "id": "ixx5y5Zm8Spc",
        "outputId": "18a851b0-6ca6-4be9-c359-918534ad4eaa"
      },
      "execution_count": 154,
      "outputs": [
        {
          "output_type": "stream",
          "name": "stdout",
          "text": [
            "The test accuracy score of GaussianNB Classifier is  0.5384615384615384\n"
          ]
        }
      ]
    },
    {
      "cell_type": "code",
      "source": [
        "print(classification_report(y_test, y_pred))"
      ],
      "metadata": {
        "colab": {
          "base_uri": "https://localhost:8080/"
        },
        "id": "Q6lb2w9I8aek",
        "outputId": "569a0f98-891b-445c-dac2-dbc38a05e32b"
      },
      "execution_count": 155,
      "outputs": [
        {
          "output_type": "stream",
          "name": "stdout",
          "text": [
            "              precision    recall  f1-score   support\n",
            "\n",
            "           0       0.63      0.61      0.62        28\n",
            "           1       0.52      0.46      0.49        24\n",
            "           2       0.00      0.00      0.00         0\n",
            "\n",
            "    accuracy                           0.54        52\n",
            "   macro avg       0.38      0.36      0.37        52\n",
            "weighted avg       0.58      0.54      0.56        52\n",
            "\n"
          ]
        }
      ]
    },
    {
      "cell_type": "code",
      "source": [
        "# pengalian informasi SVC dan hitung akurasinya\n",
        "clf = SVC(kernel='linear')\n",
        "# train the classifier\n",
        "clf.fit(X_train, y_train)\n",
        "y_pred = clf.predict(X_test)\n",
        "# printing the test accuracy\n",
        "print(\"The test accuracy score of SVC Classifier is \", accuracy_score(y_test, y_pred))"
      ],
      "metadata": {
        "colab": {
          "base_uri": "https://localhost:8080/"
        },
        "id": "SWrevG578vWM",
        "outputId": "181af34a-ee26-40be-fad0-1b39b115a893"
      },
      "execution_count": 156,
      "outputs": [
        {
          "output_type": "stream",
          "name": "stdout",
          "text": [
            "The test accuracy score of SVC Classifier is  0.6153846153846154\n"
          ]
        }
      ]
    },
    {
      "cell_type": "code",
      "source": [
        "print(classification_report(y_test, y_pred))"
      ],
      "metadata": {
        "colab": {
          "base_uri": "https://localhost:8080/"
        },
        "id": "VJ6l2GEv84N0",
        "outputId": "d2792c0c-6833-4540-d873-15d31a70f793"
      },
      "execution_count": 157,
      "outputs": [
        {
          "output_type": "stream",
          "name": "stdout",
          "text": [
            "              precision    recall  f1-score   support\n",
            "\n",
            "           0       0.70      0.50      0.58        28\n",
            "           1       0.56      0.75      0.64        24\n",
            "\n",
            "    accuracy                           0.62        52\n",
            "   macro avg       0.63      0.62      0.61        52\n",
            "weighted avg       0.64      0.62      0.61        52\n",
            "\n"
          ]
        }
      ]
    },
    {
      "cell_type": "markdown",
      "source": [
        "**Membandingkan hasil diatas**\n",
        "\n",
        "Logistric Regression Classifier akurasi 0.60\n",
        "\n",
        "Decision Tree Classifier akurasi 0.52\n",
        "\n",
        "Random Forest Classifier akurasi 0.54\n",
        "\n",
        "MLP Classifier akurasi 0.54\n",
        "\n",
        "XGB Classifier akurasi 0.58\n",
        "\n",
        "KNeighbors Classifier akurasi 0.54\n",
        "\n",
        "QuadraticDiscriminantAnalysis Classifier akurasi 0.58\n",
        "\n",
        "GaussianNB Classifier akurasi 0.54\n",
        "\n",
        "SVC Classifier akurasi 0.62\n",
        "\n",
        "Dari data di atas, kita akan analisa lebih lanjut Logistric Regression Classifier, XGB Classifier, QuadraticDiscriminantAnalysis Classifier, SVC Classifier"
      ],
      "metadata": {
        "id": "Vvlm6gVOEnM8"
      }
    },
    {
      "cell_type": "markdown",
      "source": [
        "**Proses Hyperparameter Tuning**"
      ],
      "metadata": {
        "id": "9GCabVzxGFek"
      }
    },
    {
      "cell_type": "code",
      "source": [
        "# Logistic regression classifier with hyperparameter\n",
        "clf = LogisticRegression()\n",
        "\n",
        "param_grid1 = {\n",
        "    'max_iter': [30, 50, 100, 150],\n",
        "    'multi_class': ['auto'],\n",
        "    'solver' : ['lbfgs', 'newton-cholesky']\n",
        "}\n",
        "\n",
        "gs1 = GridSearchCV(\n",
        "        estimator= clf,\n",
        "        param_grid = param_grid1,\n",
        "        cv=5,\n",
        "        n_jobs=-1,\n",
        "        scoring='accuracy'\n",
        "    )\n",
        "\n",
        "fit_clf_lg = gs1.fit(X_train, y_train)\n",
        "\n",
        "print(fit_clf_lg.best_score_)\n",
        "print(fit_clf_lg.best_params_)"
      ],
      "metadata": {
        "colab": {
          "base_uri": "https://localhost:8080/"
        },
        "id": "qUVVqmLEGEbs",
        "outputId": "cbbfe43f-7530-4b12-ac46-03e769acd278"
      },
      "execution_count": 158,
      "outputs": [
        {
          "output_type": "stream",
          "name": "stdout",
          "text": [
            "0.5734146341463415\n",
            "{'max_iter': 30, 'multi_class': 'auto', 'solver': 'lbfgs'}\n"
          ]
        }
      ]
    },
    {
      "cell_type": "code",
      "source": [
        "y_pred = fit_clf_lg.predict(X_test)\n",
        "print(classification_report(y_test, y_pred))"
      ],
      "metadata": {
        "colab": {
          "base_uri": "https://localhost:8080/"
        },
        "id": "cptdZ6FxGlkM",
        "outputId": "1fd81d7d-4a29-4749-928e-49108aca25f7"
      },
      "execution_count": 159,
      "outputs": [
        {
          "output_type": "stream",
          "name": "stdout",
          "text": [
            "              precision    recall  f1-score   support\n",
            "\n",
            "           0       0.65      0.54      0.59        28\n",
            "           1       0.55      0.67      0.60        24\n",
            "\n",
            "    accuracy                           0.60        52\n",
            "   macro avg       0.60      0.60      0.60        52\n",
            "weighted avg       0.61      0.60      0.60        52\n",
            "\n"
          ]
        }
      ]
    },
    {
      "cell_type": "code",
      "source": [
        "# XGBClassifier with hyperparameter\n",
        "clf = XGBClassifier(random_state=42)\n",
        "\n",
        "param_grid1 = {\n",
        "    'n_estimators': [100, 200, 300],\n",
        "    'max_depth': [3, 5, 7],\n",
        "    'learning_rate': [0.01, 0.1, 0.2],\n",
        "    'subsample': [0.8, 1.0],\n",
        "    'colsample_bytree': [0.8, 1.0]\n",
        "}\n",
        "\n",
        "gs1 = GridSearchCV(\n",
        "        estimator= clf,\n",
        "        param_grid = param_grid1,\n",
        "        cv=5,\n",
        "        n_jobs=-1,\n",
        "        scoring='accuracy'\n",
        "    )\n",
        "\n",
        "fit_clf_xgb = gs1.fit(X_train, y_train)\n",
        "\n",
        "print(fit_clf_xgb.best_score_)\n",
        "print(fit_clf_xgb.best_params_)"
      ],
      "metadata": {
        "colab": {
          "base_uri": "https://localhost:8080/"
        },
        "id": "pSpLEGoAG1Wj",
        "outputId": "4b13ab1a-c3a2-478f-813b-8f89bb484461"
      },
      "execution_count": 160,
      "outputs": [
        {
          "output_type": "stream",
          "name": "stdout",
          "text": [
            "0.6273170731707317\n",
            "{'colsample_bytree': 1.0, 'learning_rate': 0.01, 'max_depth': 5, 'n_estimators': 300, 'subsample': 0.8}\n"
          ]
        }
      ]
    },
    {
      "cell_type": "code",
      "source": [
        "y_pred = fit_clf_xgb.predict(X_test)\n",
        "print(classification_report(y_test, y_pred))"
      ],
      "metadata": {
        "colab": {
          "base_uri": "https://localhost:8080/"
        },
        "id": "fJOFsbf5HpVd",
        "outputId": "75408711-12a4-43d0-cb18-6b2c49f7c5e6"
      },
      "execution_count": 161,
      "outputs": [
        {
          "output_type": "stream",
          "name": "stdout",
          "text": [
            "              precision    recall  f1-score   support\n",
            "\n",
            "           0       0.68      0.54      0.60        28\n",
            "           1       0.59      0.71      0.64        24\n",
            "           2       0.00      0.00      0.00         0\n",
            "\n",
            "    accuracy                           0.62        52\n",
            "   macro avg       0.42      0.41      0.41        52\n",
            "weighted avg       0.64      0.62      0.62        52\n",
            "\n"
          ]
        }
      ]
    },
    {
      "cell_type": "code",
      "source": [
        "# QuadraticDiscriminantAnalysis with hyperparameter\n",
        "clf = QuadraticDiscriminantAnalysis()\n",
        "\n",
        "param_grid1 = {}\n",
        "\n",
        "gs1 = GridSearchCV(\n",
        "        estimator= clf,\n",
        "        param_grid = param_grid1,\n",
        "        cv=5,\n",
        "        n_jobs=-1,\n",
        "        scoring='accuracy'\n",
        "    )\n",
        "\n",
        "fit_clf_qda = gs1.fit(X_train, y_train)\n",
        "\n",
        "print(fit_clf_qda.best_score_)\n",
        "print(fit_clf_qda.best_params_)"
      ],
      "metadata": {
        "colab": {
          "base_uri": "https://localhost:8080/"
        },
        "id": "d6OGoCXmH90L",
        "outputId": "1f0ca301-1374-4d8e-e1c9-451ef6988148"
      },
      "execution_count": 162,
      "outputs": [
        {
          "output_type": "stream",
          "name": "stdout",
          "text": [
            "0.461219512195122\n",
            "{}\n"
          ]
        }
      ]
    },
    {
      "cell_type": "code",
      "source": [
        "y_pred = fit_clf_qda.predict(X_test)\n",
        "print(classification_report(y_test, y_pred))"
      ],
      "metadata": {
        "colab": {
          "base_uri": "https://localhost:8080/"
        },
        "id": "MnqvxDxQI6dz",
        "outputId": "4ed1aa57-1130-41b8-d876-11403a2e37de"
      },
      "execution_count": 163,
      "outputs": [
        {
          "output_type": "stream",
          "name": "stdout",
          "text": [
            "              precision    recall  f1-score   support\n",
            "\n",
            "           0       0.61      0.61      0.61        28\n",
            "           1       0.62      0.54      0.58        24\n",
            "           2       0.00      0.00      0.00         0\n",
            "\n",
            "    accuracy                           0.58        52\n",
            "   macro avg       0.41      0.38      0.39        52\n",
            "weighted avg       0.61      0.58      0.59        52\n",
            "\n"
          ]
        }
      ]
    },
    {
      "cell_type": "code",
      "source": [
        "# SVC classifier with hyperparameter\n",
        "clf = SVC(probability=True)\n",
        "\n",
        "param_grid1 = {\n",
        "    'C': [0.1, 1, 10],\n",
        "    'kernel': ['linear', 'rbf', 'poly'],\n",
        "    'gamma': ['scale', 'auto'],\n",
        "    'degree': [2, 3, 4]\n",
        "}\n",
        "\n",
        "gs1 = GridSearchCV(\n",
        "        estimator= clf,\n",
        "        param_grid = param_grid1,\n",
        "        cv=5,\n",
        "        n_jobs=-1,\n",
        "        scoring='accuracy'\n",
        "    )\n",
        "\n",
        "fit_clf_svc = gs1.fit(X_train, y_train)\n",
        "\n",
        "print(fit_clf_svc.best_score_)\n",
        "print(fit_clf_svc.best_params_)"
      ],
      "metadata": {
        "colab": {
          "base_uri": "https://localhost:8080/"
        },
        "id": "pwvR4kkhITJE",
        "outputId": "110f39ed-f674-488a-bd70-4d22d665b923"
      },
      "execution_count": 164,
      "outputs": [
        {
          "output_type": "stream",
          "name": "stdout",
          "text": [
            "0.6076829268292683\n",
            "{'C': 1, 'degree': 2, 'gamma': 'scale', 'kernel': 'rbf'}\n"
          ]
        }
      ]
    },
    {
      "cell_type": "code",
      "source": [
        "y_pred = fit_clf_svc.predict(X_test)\n",
        "print(classification_report(y_test, y_pred))"
      ],
      "metadata": {
        "colab": {
          "base_uri": "https://localhost:8080/"
        },
        "id": "QW5Qo8_wJque",
        "outputId": "699fa204-a2a1-4918-e390-071344a453b3"
      },
      "execution_count": 165,
      "outputs": [
        {
          "output_type": "stream",
          "name": "stdout",
          "text": [
            "              precision    recall  f1-score   support\n",
            "\n",
            "           0       0.65      0.54      0.59        28\n",
            "           1       0.55      0.67      0.60        24\n",
            "\n",
            "    accuracy                           0.60        52\n",
            "   macro avg       0.60      0.60      0.60        52\n",
            "weighted avg       0.61      0.60      0.60        52\n",
            "\n"
          ]
        }
      ]
    },
    {
      "cell_type": "markdown",
      "source": [
        "**ROC Analysis**\n",
        "\n",
        "Kurva yang menyajikan ilustrasi performansi dari binary classifier system dalam menghasilkan sebuah prediksi"
      ],
      "metadata": {
        "id": "IIDpzIkQJ1DT"
      }
    },
    {
      "cell_type": "code",
      "source": [
        "# Predict the probabilities for the positive class\n",
        "y_pred_logreg = fit_clf_lg.predict_proba(X_test)[:, 1]\n",
        "y_pred_xgb = fit_clf_xgb.predict_proba(X_test)[:, 1]\n",
        "y_pred_qda= fit_clf_qda.predict_proba(X_test)[:, 1]\n",
        "y_pred_svc= fit_clf_svc.predict_proba(X_test)[:, 1]\n",
        "\n",
        "# Calculate the AUC-ROC scores\n",
        "auc_logreg = roc_auc_score(y_test, y_pred_logreg)\n",
        "auc_xgb = roc_auc_score(y_test, y_pred_xgb)\n",
        "auc_qda = roc_auc_score(y_test, y_pred_qda)\n",
        "auc_svc = roc_auc_score(y_test, y_pred_svc)\n",
        "\n",
        "print(f\"AUC-ROC for Logistic Regression: {auc_logreg}\")\n",
        "print(f\"AUC-ROC for XGBoost: {auc_xgb}\")\n",
        "print(f\"AUC-ROC for QuadraticDiscriminantAnalysis: {auc_qda}\")\n",
        "print(f\"AUC-ROC for SVC: {auc_svc}\")"
      ],
      "metadata": {
        "colab": {
          "base_uri": "https://localhost:8080/"
        },
        "id": "KJF2kpN_J0yj",
        "outputId": "3460093e-9e6a-4d8a-ad95-600eec2e1306"
      },
      "execution_count": 166,
      "outputs": [
        {
          "output_type": "stream",
          "name": "stdout",
          "text": [
            "AUC-ROC for Logistic Regression: 0.6755952380952381\n",
            "AUC-ROC for XGBoost: 0.6309523809523809\n",
            "AUC-ROC for QuadraticDiscriminantAnalysis: 0.636904761904762\n",
            "AUC-ROC for SVC: 0.581845238095238\n"
          ]
        }
      ]
    },
    {
      "cell_type": "code",
      "source": [
        "#Membuat ROC Analisis\n",
        "def plot_roc_curves(y_test, y_pred_logreg, y_pred_xgb, y_pred_qda, y_pred_svc):\n",
        "    plt.figure(figsize=(8, 6))\n",
        "\n",
        "    # Calculate ROC curves for each model\n",
        "    fpr_logreg, tpr_logreg, _ = roc_curve(y_test, y_pred_logreg)\n",
        "    fpr_xgb, tpr_xgb, _ = roc_curve(y_test, y_pred_xgb)\n",
        "    fpr_qda, tpr_qda, _ = roc_curve(y_test, y_pred_qda)\n",
        "    fpr_svc, tpr_svc, _ = roc_curve(y_test, y_pred_svc)\n",
        "\n",
        "    # Plot ROC curves\n",
        "    plt.plot(fpr_logreg, tpr_logreg, label=f'Logistic Regression (AUC = {auc_logreg:.2f})')\n",
        "    plt.plot(fpr_xgb, tpr_xgb, label=f'XGBoost (AUC = {auc_xgb:.2f})')\n",
        "    plt.plot(fpr_qda, tpr_qda, label=f'QuadraticDiscriminantAnalysis (AUC = {auc_qda:.2f})')\n",
        "    plt.plot(fpr_svc, tpr_svc, label=f'SVC (AUC = {auc_svc:.2f})')\n",
        "\n",
        "    # Plot random classifier\n",
        "    plt.plot([0,1], [0,1], linestyle=\"--\", color=\"gray\")\n",
        "\n",
        "    # Format the plot\n",
        "    plt.xlabel('False Positive Rate')\n",
        "    plt.ylabel('True Positive Rate')\n",
        "    plt.title('ROC Curves for Student Adaptivity Level')\n",
        "    plt.legend()\n",
        "    plt.show()\n",
        "\n",
        "plot_roc_curves(y_test, y_pred_logreg, y_pred_xgb, y_pred_qda, y_pred_svc)"
      ],
      "metadata": {
        "colab": {
          "base_uri": "https://localhost:8080/",
          "height": 564
        },
        "id": "KYmbdvrcNA8z",
        "outputId": "d0b61daf-1e6c-407a-c5ed-f6967bb863b4"
      },
      "execution_count": 167,
      "outputs": [
        {
          "output_type": "display_data",
          "data": {
            "text/plain": [
              "<Figure size 800x600 with 1 Axes>"
            ],
            "image/png": "[encoded data removed]"
          },
          "metadata": {}
        }
      ]
    },
    {
      "cell_type": "code",
      "source": [
        "#ROC Analysis Graph untuk menentukan treshold'''\n",
        "def find_rates_for_thresholds(y_test, y_pred, threshold):\n",
        "    fpr_list = []\n",
        "    tpr_list = []\n",
        "    for threshold in thresholds:\n",
        "        y_pred_binary = (y_pred > threshold).astype(int)\n",
        "        tn, fp, fn, tp = confusion_matrix(y_test, y_pred_binary).ravel()\n",
        "        fpr = fp / (fp + tn)\n",
        "        tpr = tp / (tp + fn)\n",
        "        fpr_list.append(fpr)\n",
        "        tpr_list.append(tpr)\n",
        "    return fpr_list, tpr_list\n",
        "\n",
        "thresholds = np.arange(0, 1.1, 0.1)\n",
        "\n",
        "fpr_logreg, tpr_logreg = find_rates_for_thresholds(y_test, y_pred_logreg, thresholds)\n",
        "fpr_xgb, tpr_xgb = find_rates_for_thresholds(y_test, y_pred_xgb, thresholds)\n",
        "fpr_qda, tpr_qda = find_rates_for_thresholds(y_test, y_pred_qda, thresholds)\n",
        "fpr_svc, tpr_svc = find_rates_for_thresholds(y_test, y_pred_svc, thresholds)\n",
        "\n",
        "'''TODO: Silahkan buat Summary DataFrame'''\n",
        "summary_df = pd.DataFrame({\n",
        "    'Threshold' : thresholds,\n",
        "    'FPR_logreg' : fpr_logreg,\n",
        "    'FPR_XGB' : fpr_xgb,\n",
        "    'FPR_QDA' : fpr_qda,\n",
        "    'FPR_SVC' : fpr_svc,\n",
        "    'TPR_logreg' : tpr_logreg,\n",
        "    'TPR_XGB' : tpr_xgb,\n",
        "    'TPR_QDA' : tpr_qda,\n",
        "    'TPR_SVC' : tpr_svc,\n",
        "})\n",
        "\n",
        "print(summary_df)"
      ],
      "metadata": {
        "colab": {
          "base_uri": "https://localhost:8080/"
        },
        "id": "LPzlXUE7N_EK",
        "outputId": "2bf11d62-2fe2-4358-e036-870fddf11482"
      },
      "execution_count": 168,
      "outputs": [
        {
          "output_type": "stream",
          "name": "stdout",
          "text": [
            "    Threshold  FPR_logreg   FPR_XGB   FPR_QDA   FPR_SVC  TPR_logreg   TPR_XGB  \\\n",
            "0         0.0    1.000000  1.000000  1.000000  1.000000    1.000000  1.000000   \n",
            "1         0.1    0.857143  0.678571  0.571429  0.928571    1.000000  0.916667   \n",
            "2         0.2    0.642857  0.678571  0.428571  0.642857    0.875000  0.875000   \n",
            "3         0.3    0.607143  0.571429  0.357143  0.571429    0.875000  0.791667   \n",
            "4         0.4    0.571429  0.464286  0.321429  0.535714    0.833333  0.666667   \n",
            "5         0.5    0.285714  0.321429  0.285714  0.392857    0.500000  0.541667   \n",
            "6         0.6    0.142857  0.250000  0.285714  0.321429    0.333333  0.291667   \n",
            "7         0.7    0.071429  0.107143  0.250000  0.035714    0.166667  0.166667   \n",
            "8         0.8    0.000000  0.035714  0.178571  0.000000    0.041667  0.041667   \n",
            "9         0.9    0.000000  0.000000  0.142857  0.000000    0.000000  0.000000   \n",
            "10        1.0    0.000000  0.000000  0.000000  0.000000    0.000000  0.000000   \n",
            "\n",
            "     TPR_QDA   TPR_SVC  \n",
            "0   1.000000  1.000000  \n",
            "1   0.708333  1.000000  \n",
            "2   0.625000  0.916667  \n",
            "3   0.583333  0.875000  \n",
            "4   0.583333  0.666667  \n",
            "5   0.541667  0.458333  \n",
            "6   0.500000  0.250000  \n",
            "7   0.458333  0.083333  \n",
            "8   0.375000  0.000000  \n",
            "9   0.208333  0.000000  \n",
            "10  0.000000  0.000000  \n"
          ]
        }
      ]
    },
    {
      "cell_type": "code",
      "source": [
        "#ROC Analysis Graph untuk menentukan best treshold'''\n",
        "def find_best_threshold(y_test, y_pred):\n",
        "    # based on Youden's Index\n",
        "    fpr, tpr, thresholds = roc_curve(y_test, y_pred)\n",
        "    optimal_idx = np.argmax(tpr - fpr)\n",
        "    return thresholds[optimal_idx]\n",
        "\n",
        "best_threshold_logreg = find_best_threshold(y_test, y_pred_logreg)\n",
        "best_threshold_xgb = find_best_threshold(y_test, y_pred_xgb)\n",
        "best_threshold_qda = find_best_threshold(y_test, y_pred_qda)\n",
        "best_threshold_svc = find_best_threshold(y_test, y_pred_svc)\n",
        "\n",
        "print(f\"Best threshold for Logistic Regression: {best_threshold_logreg}\")\n",
        "print(f\"Best threshold for XGBoost: {best_threshold_xgb}\")\n",
        "print(f\"Best threshold for QuadraticDiscriminantAnalysis: {best_threshold_qda}\")\n",
        "print(f\"Best threshold for SVC: {best_threshold_svc}\")"
      ],
      "metadata": {
        "colab": {
          "base_uri": "https://localhost:8080/"
        },
        "id": "nKyrqfViOjp0",
        "outputId": "cf96bddb-6c30-4122-89df-353c32c40f3d"
      },
      "execution_count": 169,
      "outputs": [
        {
          "output_type": "stream",
          "name": "stdout",
          "text": [
            "Best threshold for Logistic Regression: 0.5444749696626747\n",
            "Best threshold for XGBoost: 0.045841969549655914\n",
            "Best threshold for QuadraticDiscriminantAnalysis: 0.4316199006525323\n",
            "Best threshold for SVC: 0.3033791054195949\n"
          ]
        }
      ]
    },
    {
      "cell_type": "code",
      "source": [
        "import pickle\n",
        "# Menyimpan model terbaik dengan pickle\n",
        "pklname = \"best_model_logreg.pkl\"\n",
        "\n",
        "with open(pklname, 'wb') as file:\n",
        "    pickle.dump(fit_clf_lg, file)"
      ],
      "metadata": {
        "id": "uLhQXO9APF6D"
      },
      "execution_count": 170,
      "outputs": []
    }
  ]
}